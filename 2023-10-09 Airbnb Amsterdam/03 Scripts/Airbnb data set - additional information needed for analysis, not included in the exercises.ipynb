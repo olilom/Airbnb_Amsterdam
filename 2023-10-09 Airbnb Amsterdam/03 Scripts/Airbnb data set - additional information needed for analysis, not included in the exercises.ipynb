{
 "cells": [
  {
   "cell_type": "markdown",
   "id": "6dcea0df",
   "metadata": {},
   "source": [
    "# Additional information needed for analysis, not included in the exercises\n",
    "\n",
    "### This script contains the following points:\n",
    "\n",
    "#### 1. Import libraries \n",
    "#### 2. Import data\n",
    "#### 3. Question: what type of room is the most popular?\n",
    "#### 4.Question: how many nights is the best time to rent?\n",
    "#### 5. Question: what is the most popular price range?\n",
    "#### 6. Question: top 10 most frequently rented apartments in Amsterdam?\n",
    "#### 7. Question: whether you usually have one facility or several in the city?"
   ]
  },
  {
   "cell_type": "markdown",
   "id": "99a858fb",
   "metadata": {},
   "source": [
    "#### 1. Import libraries "
   ]
  },
  {
   "cell_type": "code",
   "execution_count": 38,
   "id": "a59603cd",
   "metadata": {},
   "outputs": [],
   "source": [
    "# Import libraries\n",
    "import pandas as pd\n",
    "import numpy as np\n",
    "import os\n",
    "import matplotlib.pyplot as plt\n",
    "import seaborn as sns\n",
    "import scipy"
   ]
  },
  {
   "cell_type": "code",
   "execution_count": 39,
   "id": "44a8fc0f",
   "metadata": {},
   "outputs": [],
   "source": [
    "# Set display options to show all columns without truncation\n",
    "pd.set_option('display.max_columns', None)"
   ]
  },
  {
   "cell_type": "code",
   "execution_count": 40,
   "id": "29712e46",
   "metadata": {},
   "outputs": [],
   "source": [
    "# Creating a path for faster import and export\n",
    "path=r\"C:\\Users\\olilo\\OneDrive\\Dokumente\\CF\\Data Analytics Immersion_Week 14-15\\2023-10-09 Airbnb Amsterdam\""
   ]
  },
  {
   "cell_type": "code",
   "execution_count": 41,
   "id": "3ea47ffa",
   "metadata": {},
   "outputs": [],
   "source": [
    "# Created charts are displayed in the notebook without the need to \"call\" them specifically\n",
    "%matplotlib inline"
   ]
  },
  {
   "cell_type": "code",
   "execution_count": 42,
   "id": "a9037d88",
   "metadata": {},
   "outputs": [
    {
     "data": {
      "image/png": "[encoded data removed]",
      "text/plain": [
       "<Figure size 600x100 with 1 Axes>"
      ]
     },
     "metadata": {},
     "output_type": "display_data"
    }
   ],
   "source": [
    "# Set the color palette to \"RuBu\"\n",
    "palette = sns.color_palette(\"RdBu\")\n",
    "\n",
    "# Plot the palette\n",
    "sns.palplot(palette)"
   ]
  },
  {
   "cell_type": "code",
   "execution_count": 43,
   "id": "5d4db9b4",
   "metadata": {},
   "outputs": [
    {
     "name": "stdout",
     "output_type": "stream",
     "text": [
      "['#c13639', '#f09c7b', '#fbe3d4', '#dbeaf2', '#87beda', '#2f79b5']\n"
     ]
    }
   ],
   "source": [
    "# Get the color palette\n",
    "colors = sns.color_palette(palette)\n",
    "\n",
    "# Convert the colors to hexadecimal values and print them\n",
    "hex_colors = [color for color in colors.as_hex()]\n",
    "print(hex_colors)"
   ]
  },
  {
   "cell_type": "code",
   "execution_count": 44,
   "id": "5d3406a5",
   "metadata": {},
   "outputs": [],
   "source": [
    "#### 2. Import data"
   ]
  },
  {
   "cell_type": "code",
   "execution_count": 45,
   "id": "f46d1303",
   "metadata": {},
   "outputs": [],
   "source": [
    "# Import datafarme\n",
    "df = pd.read_csv(os.path.join(path, '02 Data', 'Prepared Data', 'df_clean.csv'), index_col = False)"
   ]
  },
  {
   "cell_type": "code",
   "execution_count": 46,
   "id": "48ca1096",
   "metadata": {},
   "outputs": [
    {
     "data": {
      "text/plain": [
       "(8386, 16)"
      ]
     },
     "execution_count": 46,
     "metadata": {},
     "output_type": "execute_result"
    }
   ],
   "source": [
    "# Output check df_list\n",
    "df.shape"
   ]
  },
  {
   "cell_type": "code",
   "execution_count": 47,
   "id": "23d7375a",
   "metadata": {},
   "outputs": [
    {
     "data": {
      "text/html": [
       "<div>\n",
       "<style scoped>\n",
       "    .dataframe tbody tr th:only-of-type {\n",
       "        vertical-align: middle;\n",
       "    }\n",
       "\n",
       "    .dataframe tbody tr th {\n",
       "        vertical-align: top;\n",
       "    }\n",
       "\n",
       "    .dataframe thead th {\n",
       "        text-align: right;\n",
       "    }\n",
       "</style>\n",
       "<table border=\"1\" class=\"dataframe\">\n",
       "  <thead>\n",
       "    <tr style=\"text-align: right;\">\n",
       "      <th></th>\n",
       "      <th>Unnamed: 0</th>\n",
       "      <th>id</th>\n",
       "      <th>name</th>\n",
       "      <th>host_id</th>\n",
       "      <th>neighbourhood</th>\n",
       "      <th>latitude</th>\n",
       "      <th>longitude</th>\n",
       "      <th>room_type</th>\n",
       "      <th>price</th>\n",
       "      <th>minimum_nights</th>\n",
       "      <th>number_of_reviews</th>\n",
       "      <th>last_review</th>\n",
       "      <th>reviews_per_month</th>\n",
       "      <th>calculated_host_listings_count</th>\n",
       "      <th>availability_365</th>\n",
       "      <th>number_of_reviews_ltm</th>\n",
       "    </tr>\n",
       "  </thead>\n",
       "  <tbody>\n",
       "    <tr>\n",
       "      <th>0</th>\n",
       "      <td>0</td>\n",
       "      <td>761411</td>\n",
       "      <td>Condo in Amsterdam · ★4.74 · 1 bedroom · 1 bed...</td>\n",
       "      <td>4013546</td>\n",
       "      <td>Noord-Oost</td>\n",
       "      <td>52.40164</td>\n",
       "      <td>4.95106</td>\n",
       "      <td>Private room</td>\n",
       "      <td>61</td>\n",
       "      <td>3</td>\n",
       "      <td>303</td>\n",
       "      <td>2023-08-19</td>\n",
       "      <td>2.30</td>\n",
       "      <td>2</td>\n",
       "      <td>272</td>\n",
       "      <td>26</td>\n",
       "    </tr>\n",
       "    <tr>\n",
       "      <th>1</th>\n",
       "      <td>1</td>\n",
       "      <td>768274</td>\n",
       "      <td>Rental unit in Amsterdam · ★4.83 · 1 bedroom ·...</td>\n",
       "      <td>3678216</td>\n",
       "      <td>Westerpark</td>\n",
       "      <td>52.38855</td>\n",
       "      <td>4.88521</td>\n",
       "      <td>Entire home/apt</td>\n",
       "      <td>327</td>\n",
       "      <td>3</td>\n",
       "      <td>78</td>\n",
       "      <td>2023-08-16</td>\n",
       "      <td>0.64</td>\n",
       "      <td>1</td>\n",
       "      <td>16</td>\n",
       "      <td>6</td>\n",
       "    </tr>\n",
       "    <tr>\n",
       "      <th>2</th>\n",
       "      <td>2</td>\n",
       "      <td>768737</td>\n",
       "      <td>Boat in Amsterdam · ★4.82 · 1 bedroom · 1 bed ...</td>\n",
       "      <td>3877342</td>\n",
       "      <td>Westerpark</td>\n",
       "      <td>52.37824</td>\n",
       "      <td>4.86826</td>\n",
       "      <td>Private room</td>\n",
       "      <td>109</td>\n",
       "      <td>2</td>\n",
       "      <td>341</td>\n",
       "      <td>2023-08-24</td>\n",
       "      <td>2.73</td>\n",
       "      <td>3</td>\n",
       "      <td>29</td>\n",
       "      <td>43</td>\n",
       "    </tr>\n",
       "    <tr>\n",
       "      <th>3</th>\n",
       "      <td>3</td>\n",
       "      <td>771217</td>\n",
       "      <td>Houseboat in Amsterdam · ★5.0 · 3 bedrooms · 3...</td>\n",
       "      <td>4068486</td>\n",
       "      <td>Zuid</td>\n",
       "      <td>52.34091</td>\n",
       "      <td>4.84802</td>\n",
       "      <td>Entire home/apt</td>\n",
       "      <td>290</td>\n",
       "      <td>3</td>\n",
       "      <td>10</td>\n",
       "      <td>2019-01-02</td>\n",
       "      <td>0.11</td>\n",
       "      <td>1</td>\n",
       "      <td>0</td>\n",
       "      <td>0</td>\n",
       "    </tr>\n",
       "    <tr>\n",
       "      <th>4</th>\n",
       "      <td>4</td>\n",
       "      <td>771343</td>\n",
       "      <td>Rental unit in Amsterdam · ★4.89 · 1 bedroom ·...</td>\n",
       "      <td>2313061</td>\n",
       "      <td>Centrum-West</td>\n",
       "      <td>52.37641</td>\n",
       "      <td>4.88303</td>\n",
       "      <td>Private room</td>\n",
       "      <td>150</td>\n",
       "      <td>1</td>\n",
       "      <td>699</td>\n",
       "      <td>2023-09-01</td>\n",
       "      <td>6.62</td>\n",
       "      <td>2</td>\n",
       "      <td>196</td>\n",
       "      <td>110</td>\n",
       "    </tr>\n",
       "  </tbody>\n",
       "</table>\n",
       "</div>"
      ],
      "text/plain": [
       "   Unnamed: 0      id                                               name  \\\n",
       "0           0  761411  Condo in Amsterdam · ★4.74 · 1 bedroom · 1 bed...   \n",
       "1           1  768274  Rental unit in Amsterdam · ★4.83 · 1 bedroom ·...   \n",
       "2           2  768737  Boat in Amsterdam · ★4.82 · 1 bedroom · 1 bed ...   \n",
       "3           3  771217  Houseboat in Amsterdam · ★5.0 · 3 bedrooms · 3...   \n",
       "4           4  771343  Rental unit in Amsterdam · ★4.89 · 1 bedroom ·...   \n",
       "\n",
       "   host_id neighbourhood  latitude  longitude        room_type  price  \\\n",
       "0  4013546    Noord-Oost  52.40164    4.95106     Private room     61   \n",
       "1  3678216    Westerpark  52.38855    4.88521  Entire home/apt    327   \n",
       "2  3877342    Westerpark  52.37824    4.86826     Private room    109   \n",
       "3  4068486          Zuid  52.34091    4.84802  Entire home/apt    290   \n",
       "4  2313061  Centrum-West  52.37641    4.88303     Private room    150   \n",
       "\n",
       "   minimum_nights  number_of_reviews last_review  reviews_per_month  \\\n",
       "0               3                303  2023-08-19               2.30   \n",
       "1               3                 78  2023-08-16               0.64   \n",
       "2               2                341  2023-08-24               2.73   \n",
       "3               3                 10  2019-01-02               0.11   \n",
       "4               1                699  2023-09-01               6.62   \n",
       "\n",
       "   calculated_host_listings_count  availability_365  number_of_reviews_ltm  \n",
       "0                               2               272                     26  \n",
       "1                               1                16                      6  \n",
       "2                               3                29                     43  \n",
       "3                               1                 0                      0  \n",
       "4                               2               196                    110  "
      ]
     },
     "execution_count": 47,
     "metadata": {},
     "output_type": "execute_result"
    }
   ],
   "source": [
    "df.head()"
   ]
  },
  {
   "cell_type": "code",
   "execution_count": 48,
   "id": "cd7ecea4",
   "metadata": {},
   "outputs": [],
   "source": [
    "#  Rename some columns in the imported dataframe to make it easier to type out syntax\n",
    "df.rename(columns = {'number_of_reviews' : 'Reviews number', 'price':'Price', 'availability_365': 'Availability in days','minimum_nights' : 'Min. Nights', 'reviews_per_month': 'Reviews per Month', 'number_of_reviews_ltm': 'Reviews in 12 Months','room_type': 'Property for rent','neighbourhood':'Neighbourhood', 'last_review':'Last review date'}, inplace = True)"
   ]
  },
  {
   "cell_type": "code",
   "execution_count": 49,
   "id": "a7126db0",
   "metadata": {},
   "outputs": [],
   "source": [
    "# Remove two columns in place\n",
    "df.drop(['Unnamed: 0'], axis=1, inplace=True)"
   ]
  },
  {
   "cell_type": "code",
   "execution_count": 50,
   "id": "1da4b859",
   "metadata": {},
   "outputs": [
    {
     "data": {
      "text/plain": [
       "id                                  0\n",
       "name                                0\n",
       "host_id                             0\n",
       "Neighbourhood                       0\n",
       "latitude                            0\n",
       "longitude                           0\n",
       "Property for rent                   0\n",
       "Price                               0\n",
       "Min. Nights                         0\n",
       "Reviews number                      0\n",
       "Last review date                  830\n",
       "Reviews per Month                 830\n",
       "calculated_host_listings_count      0\n",
       "Availability in days                0\n",
       "Reviews in 12 Months                0\n",
       "dtype: int64"
      ]
     },
     "execution_count": 50,
     "metadata": {},
     "output_type": "execute_result"
    }
   ],
   "source": [
    "# Check for missing values\n",
    "df.isnull().sum()"
   ]
  },
  {
   "cell_type": "markdown",
   "id": "74dad833",
   "metadata": {},
   "source": [
    "Zero values in two columns remain."
   ]
  },
  {
   "cell_type": "markdown",
   "id": "82f4aff9",
   "metadata": {},
   "source": [
    "#### 3. Question: what type of room is the most popular?"
   ]
  },
  {
   "cell_type": "code",
   "execution_count": 51,
   "id": "c8e5f286",
   "metadata": {},
   "outputs": [],
   "source": [
    "# Creating subset\n",
    "df_room = df[['Property for rent','Price','Availability in days']]"
   ]
  },
  {
   "cell_type": "code",
   "execution_count": 52,
   "id": "7e4ffcd5",
   "metadata": {},
   "outputs": [
    {
     "name": "stdout",
     "output_type": "stream",
     "text": [
      "['Private room' 'Entire home/apt' 'Hotel room' 'Shared room']\n",
      "Property for rent\n",
      "Entire home/apt    6477\n",
      "Private room       1813\n",
      "Hotel room           54\n",
      "Shared room          42\n",
      "Name: count, dtype: int64\n"
     ]
    }
   ],
   "source": [
    "# Print the unique values in the 'Property for rent' column\n",
    "print(df_room['Property for rent'].unique())\n",
    "\n",
    "# Count the number of each type of room\n",
    "df_room_counts = df_room['Property for rent'].value_counts()\n",
    "\n",
    "# Print the room counts\n",
    "print(df_room_counts)"
   ]
  },
  {
   "cell_type": "code",
   "execution_count": 53,
   "id": "d0e43c61",
   "metadata": {},
   "outputs": [
    {
     "data": {
      "image/png": "[encoded data removed]",
      "text/plain": [
       "<Figure size 800x600 with 1 Axes>"
      ]
     },
     "metadata": {},
     "output_type": "display_data"
    }
   ],
   "source": [
    "# Creating a bar chart\n",
    "bar_room = df_room['Property for rent'].value_counts().plot.bar(\n",
    "    color=['#c13639', '#f09c7b', '#87beda', '#2f79b5'],\n",
    "    figsize=(8, 6))\n",
    "\n",
    "plt.xlabel(\"Property\", fontsize=12)\n",
    "plt.ylabel(\"Count\", fontsize=12)\n",
    "plt.title(\"What type of property can be rented?\", fontsize=12)\n",
    "plt.xticks(rotation=0)  # Rotate x-axis labels if needed\n",
    "\n",
    "# Adjust the layout to prevent the bottom part from getting cut off\n",
    "plt.tight_layout()"
   ]
  },
  {
   "cell_type": "code",
   "execution_count": 54,
   "id": "1057b45c",
   "metadata": {},
   "outputs": [],
   "source": [
    "# Export the visualization it outside\n",
    "bar_room.figure.savefig(os.path.join(path, '04 Analysis','Visualizations', 'bar_room_type.png'))"
   ]
  },
  {
   "cell_type": "code",
   "execution_count": 55,
   "id": "8d00a48f",
   "metadata": {},
   "outputs": [
    {
     "name": "stdout",
     "output_type": "stream",
     "text": [
      "count    7957.000000\n",
      "mean      220.456076\n",
      "std        99.468425\n",
      "min        18.000000\n",
      "25%       149.000000\n",
      "50%       200.000000\n",
      "75%       280.000000\n",
      "max       500.000000\n",
      "Name: Price, dtype: float64\n"
     ]
    }
   ],
   "source": [
    "# Identify the outliers\n",
    "outliers = df_room[df_room['Price'] > 500]\n",
    "# Remove the outliers\n",
    "df_room = df_room.drop(outliers.index)\n",
    "\n",
    "# Evaluate the results\n",
    "print(df_room['Price'].describe())"
   ]
  },
  {
   "cell_type": "code",
   "execution_count": 56,
   "id": "20537c7b",
   "metadata": {},
   "outputs": [
    {
     "name": "stdout",
     "output_type": "stream",
     "text": [
      "     Property for rent  Price  Availability in days Price_group\n",
      "0         Private room     61                   272      61-120\n",
      "1      Entire home/apt    327                    16     201-500\n",
      "2         Private room    109                    29      61-120\n",
      "3      Entire home/apt    290                     0     201-500\n",
      "4         Private room    150                   196     121-200\n",
      "...                ...    ...                   ...         ...\n",
      "8381   Entire home/apt    250                     9     201-500\n",
      "8382   Entire home/apt    337                   267     201-500\n",
      "8383   Entire home/apt    135                    13     121-200\n",
      "8384      Private room    160                     6     121-200\n",
      "8385   Entire home/apt    211                    55     201-500\n",
      "\n",
      "[7957 rows x 4 columns]\n"
     ]
    }
   ],
   "source": [
    "# Define the price groups\n",
    "price_groups = pd.cut(df_room['Price'], [0, 60, 120, 200, 500], labels=['18-60', '61-120', '121-200', '201-500'])\n",
    "\n",
    "# Add the price group to the DataFrame\n",
    "df_room['Price_group'] = price_groups\n",
    "\n",
    "# Print the DataFrame\n",
    "print(df_room)"
   ]
  },
  {
   "cell_type": "code",
   "execution_count": 57,
   "id": "ffbb12d0",
   "metadata": {},
   "outputs": [],
   "source": [
    "# Data vor chart\n",
    "df_room_chart = df_room[['Price_group','Availability in days']]"
   ]
  },
  {
   "cell_type": "code",
   "execution_count": 58,
   "id": "fc06d8f8",
   "metadata": {},
   "outputs": [
    {
     "data": {
      "image/png": "[encoded data removed]",
      "text/plain": [
       "<Figure size 800x600 with 1 Axes>"
      ]
     },
     "metadata": {},
     "output_type": "display_data"
    }
   ],
   "source": [
    "# Bar chart as secound output\n",
    "bar_room_price_group = df_room_chart['Price_group'].value_counts().plot.barh(color = ['#c13639', '#f09c7b', '#87beda', '#2f79b5'],figsize=(8, 6))\n",
    "plt.xlabel('Count', fontsize=12)\n",
    "plt.ylabel('Price_group', fontsize=12)  \n",
    "plt.title(\"How many units are available for rent in a given price group?\", fontsize=12)\n",
    "\n",
    "# Use tight_layout to prevent label overlap\n",
    "plt.tight_layout()"
   ]
  },
  {
   "cell_type": "code",
   "execution_count": 59,
   "id": "1142d9de",
   "metadata": {},
   "outputs": [],
   "source": [
    "# Export the visualization it outside\n",
    "bar_room_price_group.figure.savefig(os.path.join(path, '04 Analysis','Visualizations', 'bar_room_price_group.png'))"
   ]
  },
  {
   "cell_type": "markdown",
   "id": "86755ae6",
   "metadata": {},
   "source": [
    "#### 4.Question: how many nights is the best time to rent?"
   ]
  },
  {
   "cell_type": "code",
   "execution_count": 60,
   "id": "04c4c462",
   "metadata": {},
   "outputs": [],
   "source": [
    "# Creating subset\n",
    "df_night = df_room[['Price_group','Availability in days']]"
   ]
  },
  {
   "cell_type": "code",
   "execution_count": 61,
   "id": "f99c9329",
   "metadata": {},
   "outputs": [
    {
     "data": {
      "text/html": [
       "<div>\n",
       "<style scoped>\n",
       "    .dataframe tbody tr th:only-of-type {\n",
       "        vertical-align: middle;\n",
       "    }\n",
       "\n",
       "    .dataframe tbody tr th {\n",
       "        vertical-align: top;\n",
       "    }\n",
       "\n",
       "    .dataframe thead th {\n",
       "        text-align: right;\n",
       "    }\n",
       "</style>\n",
       "<table border=\"1\" class=\"dataframe\">\n",
       "  <thead>\n",
       "    <tr style=\"text-align: right;\">\n",
       "      <th></th>\n",
       "      <th>Price_group</th>\n",
       "      <th>Availability in days</th>\n",
       "    </tr>\n",
       "  </thead>\n",
       "  <tbody>\n",
       "    <tr>\n",
       "      <th>0</th>\n",
       "      <td>61-120</td>\n",
       "      <td>272</td>\n",
       "    </tr>\n",
       "    <tr>\n",
       "      <th>1</th>\n",
       "      <td>201-500</td>\n",
       "      <td>16</td>\n",
       "    </tr>\n",
       "    <tr>\n",
       "      <th>2</th>\n",
       "      <td>61-120</td>\n",
       "      <td>29</td>\n",
       "    </tr>\n",
       "    <tr>\n",
       "      <th>3</th>\n",
       "      <td>201-500</td>\n",
       "      <td>0</td>\n",
       "    </tr>\n",
       "    <tr>\n",
       "      <th>4</th>\n",
       "      <td>121-200</td>\n",
       "      <td>196</td>\n",
       "    </tr>\n",
       "  </tbody>\n",
       "</table>\n",
       "</div>"
      ],
      "text/plain": [
       "  Price_group  Availability in days\n",
       "0      61-120                   272\n",
       "1     201-500                    16\n",
       "2      61-120                    29\n",
       "3     201-500                     0\n",
       "4     121-200                   196"
      ]
     },
     "execution_count": 61,
     "metadata": {},
     "output_type": "execute_result"
    }
   ],
   "source": [
    "# Output check\n",
    "df_night.head()"
   ]
  },
  {
   "cell_type": "code",
   "execution_count": 62,
   "id": "17dde5e7",
   "metadata": {},
   "outputs": [
    {
     "data": {
      "text/plain": [
       "(7957, 2)"
      ]
     },
     "execution_count": 62,
     "metadata": {},
     "output_type": "execute_result"
    }
   ],
   "source": [
    "df_night.shape"
   ]
  },
  {
   "cell_type": "code",
   "execution_count": 63,
   "id": "606032fb",
   "metadata": {},
   "outputs": [
    {
     "name": "stdout",
     "output_type": "stream",
     "text": [
      "Availability in days\n",
      "0      2871\n",
      "2       138\n",
      "1       119\n",
      "3       102\n",
      "4        98\n",
      "       ... \n",
      "147       3\n",
      "188       3\n",
      "141       2\n",
      "113       2\n",
      "207       1\n",
      "Name: count, Length: 366, dtype: int64\n"
     ]
    }
   ],
   "source": [
    "# Count the number \n",
    "df_night_counts = df_night['Availability in days'].value_counts()\n",
    "\n",
    "# Print the room counts\n",
    "print(df_night_counts)"
   ]
  },
  {
   "cell_type": "code",
   "execution_count": 64,
   "id": "b950eaf7",
   "metadata": {},
   "outputs": [
    {
     "name": "stdout",
     "output_type": "stream",
     "text": [
      "Availability in days\n",
      "207    1\n",
      "113    2\n",
      "141    2\n",
      "188    3\n",
      "187    3\n",
      "341    3\n",
      "199    3\n",
      "266    3\n",
      "219    3\n",
      "165    3\n",
      "Name: count, dtype: int64\n"
     ]
    }
   ],
   "source": [
    "# Sort the counts in ascending order\n",
    "df_night_counts = df_night_counts.sort_values(ascending=True)\n",
    "\n",
    "# Print the top 10 lowest counted values\n",
    "print(df_night_counts.head(10))"
   ]
  },
  {
   "cell_type": "code",
   "execution_count": 65,
   "id": "ddde3167",
   "metadata": {},
   "outputs": [
    {
     "name": "stderr",
     "output_type": "stream",
     "text": [
      "C:\\Users\\olilo\\AppData\\Local\\Temp\\ipykernel_5256\\4126811380.py:2: UserWarning: The palette list has more values (6) than needed (4), which may not be intended.\n",
      "  scatter_night = sns.scatterplot(x = 'Price_group', y = 'Availability in days', data = df_night, hue='Price_group', palette=colors)\n"
     ]
    },
    {
     "data": {
      "image/png": "[encoded data removed]",
      "text/plain": [
       "<Figure size 640x480 with 1 Axes>"
      ]
     },
     "metadata": {},
     "output_type": "display_data"
    }
   ],
   "source": [
    "# Create a scatterplot\n",
    "scatter_night = sns.scatterplot(x = 'Price_group', y = 'Availability in days', data = df_night, hue='Price_group', palette=colors)\n",
    "plt.xlabel('Price_group', fontsize=12)\n",
    "plt.ylabel('Availability in days', fontsize=12)  \n",
    "plt.title(\"Availability in days by 'Price_group'\", fontsize=12)\n",
    "# Move the legend to the side\n",
    "plt.legend(loc=\"upper left\", bbox_to_anchor=(1,1))\n",
    "plt.show()"
   ]
  },
  {
   "cell_type": "code",
   "execution_count": 66,
   "id": "19666ef6",
   "metadata": {},
   "outputs": [],
   "source": [
    "# Export the visualization it outside\n",
    "scatter_night.figure.savefig(os.path.join(path, '04 Analysis','Visualizations', 'scatter_night_groups_price.png'))"
   ]
  },
  {
   "cell_type": "markdown",
   "id": "fca21ed5",
   "metadata": {},
   "source": [
    "#### 5. Question: what is the most popular price range?"
   ]
  },
  {
   "cell_type": "markdown",
   "id": "5630bb84",
   "metadata": {},
   "source": [
    "Answer in bar_room_price_group chart"
   ]
  },
  {
   "cell_type": "markdown",
   "id": "60f3bf74",
   "metadata": {},
   "source": [
    "#### 6. Question: top 10 most frequently rented apartments in Amsterdam?"
   ]
  },
  {
   "cell_type": "code",
   "execution_count": 67,
   "id": "24936768",
   "metadata": {},
   "outputs": [
    {
     "data": {
      "text/html": [
       "<div>\n",
       "<style scoped>\n",
       "    .dataframe tbody tr th:only-of-type {\n",
       "        vertical-align: middle;\n",
       "    }\n",
       "\n",
       "    .dataframe tbody tr th {\n",
       "        vertical-align: top;\n",
       "    }\n",
       "\n",
       "    .dataframe thead th {\n",
       "        text-align: right;\n",
       "    }\n",
       "</style>\n",
       "<table border=\"1\" class=\"dataframe\">\n",
       "  <thead>\n",
       "    <tr style=\"text-align: right;\">\n",
       "      <th></th>\n",
       "      <th>id</th>\n",
       "      <th>name</th>\n",
       "      <th>host_id</th>\n",
       "      <th>Neighbourhood</th>\n",
       "      <th>latitude</th>\n",
       "      <th>longitude</th>\n",
       "      <th>Property for rent</th>\n",
       "      <th>Price</th>\n",
       "      <th>Min. Nights</th>\n",
       "      <th>Reviews number</th>\n",
       "      <th>Last review date</th>\n",
       "      <th>Reviews per Month</th>\n",
       "      <th>calculated_host_listings_count</th>\n",
       "      <th>Availability in days</th>\n",
       "      <th>Reviews in 12 Months</th>\n",
       "    </tr>\n",
       "  </thead>\n",
       "  <tbody>\n",
       "    <tr>\n",
       "      <th>0</th>\n",
       "      <td>761411</td>\n",
       "      <td>Condo in Amsterdam · ★4.74 · 1 bedroom · 1 bed...</td>\n",
       "      <td>4013546</td>\n",
       "      <td>Noord-Oost</td>\n",
       "      <td>52.40164</td>\n",
       "      <td>4.95106</td>\n",
       "      <td>Private room</td>\n",
       "      <td>61</td>\n",
       "      <td>3</td>\n",
       "      <td>303</td>\n",
       "      <td>2023-08-19</td>\n",
       "      <td>2.30</td>\n",
       "      <td>2</td>\n",
       "      <td>272</td>\n",
       "      <td>26</td>\n",
       "    </tr>\n",
       "    <tr>\n",
       "      <th>1</th>\n",
       "      <td>768274</td>\n",
       "      <td>Rental unit in Amsterdam · ★4.83 · 1 bedroom ·...</td>\n",
       "      <td>3678216</td>\n",
       "      <td>Westerpark</td>\n",
       "      <td>52.38855</td>\n",
       "      <td>4.88521</td>\n",
       "      <td>Entire home/apt</td>\n",
       "      <td>327</td>\n",
       "      <td>3</td>\n",
       "      <td>78</td>\n",
       "      <td>2023-08-16</td>\n",
       "      <td>0.64</td>\n",
       "      <td>1</td>\n",
       "      <td>16</td>\n",
       "      <td>6</td>\n",
       "    </tr>\n",
       "    <tr>\n",
       "      <th>2</th>\n",
       "      <td>768737</td>\n",
       "      <td>Boat in Amsterdam · ★4.82 · 1 bedroom · 1 bed ...</td>\n",
       "      <td>3877342</td>\n",
       "      <td>Westerpark</td>\n",
       "      <td>52.37824</td>\n",
       "      <td>4.86826</td>\n",
       "      <td>Private room</td>\n",
       "      <td>109</td>\n",
       "      <td>2</td>\n",
       "      <td>341</td>\n",
       "      <td>2023-08-24</td>\n",
       "      <td>2.73</td>\n",
       "      <td>3</td>\n",
       "      <td>29</td>\n",
       "      <td>43</td>\n",
       "    </tr>\n",
       "    <tr>\n",
       "      <th>3</th>\n",
       "      <td>771217</td>\n",
       "      <td>Houseboat in Amsterdam · ★5.0 · 3 bedrooms · 3...</td>\n",
       "      <td>4068486</td>\n",
       "      <td>Zuid</td>\n",
       "      <td>52.34091</td>\n",
       "      <td>4.84802</td>\n",
       "      <td>Entire home/apt</td>\n",
       "      <td>290</td>\n",
       "      <td>3</td>\n",
       "      <td>10</td>\n",
       "      <td>2019-01-02</td>\n",
       "      <td>0.11</td>\n",
       "      <td>1</td>\n",
       "      <td>0</td>\n",
       "      <td>0</td>\n",
       "    </tr>\n",
       "    <tr>\n",
       "      <th>4</th>\n",
       "      <td>771343</td>\n",
       "      <td>Rental unit in Amsterdam · ★4.89 · 1 bedroom ·...</td>\n",
       "      <td>2313061</td>\n",
       "      <td>Centrum-West</td>\n",
       "      <td>52.37641</td>\n",
       "      <td>4.88303</td>\n",
       "      <td>Private room</td>\n",
       "      <td>150</td>\n",
       "      <td>1</td>\n",
       "      <td>699</td>\n",
       "      <td>2023-09-01</td>\n",
       "      <td>6.62</td>\n",
       "      <td>2</td>\n",
       "      <td>196</td>\n",
       "      <td>110</td>\n",
       "    </tr>\n",
       "  </tbody>\n",
       "</table>\n",
       "</div>"
      ],
      "text/plain": [
       "       id                                               name  host_id  \\\n",
       "0  761411  Condo in Amsterdam · ★4.74 · 1 bedroom · 1 bed...  4013546   \n",
       "1  768274  Rental unit in Amsterdam · ★4.83 · 1 bedroom ·...  3678216   \n",
       "2  768737  Boat in Amsterdam · ★4.82 · 1 bedroom · 1 bed ...  3877342   \n",
       "3  771217  Houseboat in Amsterdam · ★5.0 · 3 bedrooms · 3...  4068486   \n",
       "4  771343  Rental unit in Amsterdam · ★4.89 · 1 bedroom ·...  2313061   \n",
       "\n",
       "  Neighbourhood  latitude  longitude Property for rent  Price  Min. Nights  \\\n",
       "0    Noord-Oost  52.40164    4.95106      Private room     61            3   \n",
       "1    Westerpark  52.38855    4.88521   Entire home/apt    327            3   \n",
       "2    Westerpark  52.37824    4.86826      Private room    109            2   \n",
       "3          Zuid  52.34091    4.84802   Entire home/apt    290            3   \n",
       "4  Centrum-West  52.37641    4.88303      Private room    150            1   \n",
       "\n",
       "   Reviews number Last review date  Reviews per Month  \\\n",
       "0             303       2023-08-19               2.30   \n",
       "1              78       2023-08-16               0.64   \n",
       "2             341       2023-08-24               2.73   \n",
       "3              10       2019-01-02               0.11   \n",
       "4             699       2023-09-01               6.62   \n",
       "\n",
       "   calculated_host_listings_count  Availability in days  Reviews in 12 Months  \n",
       "0                               2                   272                    26  \n",
       "1                               1                    16                     6  \n",
       "2                               3                    29                    43  \n",
       "3                               1                     0                     0  \n",
       "4                               2                   196                   110  "
      ]
     },
     "execution_count": 67,
     "metadata": {},
     "output_type": "execute_result"
    }
   ],
   "source": [
    "# Output for easy workflow\n",
    "df.head()"
   ]
  },
  {
   "cell_type": "code",
   "execution_count": 68,
   "id": "583fe410",
   "metadata": {},
   "outputs": [
    {
     "name": "stdout",
     "output_type": "stream",
     "text": [
      "            id                                               name    host_id  \\\n",
      "4746  50383849  Hotel in Amsterdam · ★4.66 · 1 bedroom · 1 bed...  407017762   \n",
      "3382  32485135     Hotel in Amsterdam · ★4.84 · 1 bedroom · 1 bed  243087395   \n",
      "4396  45045046  Boutique hotel in Amsterdam · ★4.74 · 1 bedroo...  363404652   \n",
      "3657  35927687  Hostel in Amsterdam · ★4.51 · 1 bedroom · 2 be...  251479377   \n",
      "159     802052  Boat in Amsterdam · ★4.93 · 1 bedroom · 1 bed ...    4221960   \n",
      "23       82482  Guesthouse in Amsterdam · ★4.51 · Studio · 2 b...     186729   \n",
      "155     785432  Rental unit in Amsterdam · ★4.77 · 2 bedrooms ...    2586026   \n",
      "3244  30762441  Serviced apartment in Amsterdam · ★4.78 · 2 be...  228208519   \n",
      "166     851044  Rental unit in Amsterdam · ★4.75 · 2 bedrooms ...    4443833   \n",
      "3629  35632344  Hostel in Amsterdam · ★4.60 · 1 bedroom · 4 be...  251479377   \n",
      "\n",
      "               Neighbourhood  latitude  longitude Property for rent  Price  \\\n",
      "4746                  Osdorp  52.35831    4.80335      Private room    125   \n",
      "3382  De Baarsjes - Oud-West  52.36798    4.86633        Hotel room    135   \n",
      "4396  De Baarsjes - Oud-West  52.35815    4.85627      Private room    152   \n",
      "3657                Oud-Oost  52.36054    4.91984       Shared room     51   \n",
      "159             Centrum-Oost  52.36476    4.90925      Private room    142   \n",
      "23              Centrum-West  52.36968    4.88122   Entire home/apt    140   \n",
      "155             Centrum-Oost  52.36856    4.89896   Entire home/apt    250   \n",
      "3244            Centrum-Oost  52.37847    4.90756   Entire home/apt    455   \n",
      "166                     Zuid  52.34025    4.84660   Entire home/apt    169   \n",
      "3629                Oud-Oost  52.36192    4.91966      Private room    226   \n",
      "\n",
      "      Min. Nights  Reviews number Last review date  Reviews per Month  \\\n",
      "4746            1            3199       2023-09-03             120.11   \n",
      "3382            1            2106       2023-09-03              38.57   \n",
      "4396            1            1994       2023-08-20              54.18   \n",
      "3657            1            1410       2023-08-19              27.54   \n",
      "159             1            1173       2023-09-02               8.95   \n",
      "23              2            1020       2023-08-12               6.86   \n",
      "155             2             976       2023-08-23               7.48   \n",
      "3244            1             972       2023-09-01              17.00   \n",
      "166             1             942       2023-08-28               7.25   \n",
      "3629            1             933       2023-08-19              18.26   \n",
      "\n",
      "      calculated_host_listings_count  Availability in days  \\\n",
      "4746                               5                   344   \n",
      "3382                               1                   362   \n",
      "4396                               4                   290   \n",
      "3657                               7                   362   \n",
      "159                                1                   172   \n",
      "23                                 1                   252   \n",
      "155                                1                    80   \n",
      "3244                               5                   342   \n",
      "166                                2                   123   \n",
      "3629                               7                   359   \n",
      "\n",
      "      Reviews in 12 Months  \n",
      "4746                  1689  \n",
      "3382                   803  \n",
      "4396                   732  \n",
      "3657                   324  \n",
      "159                    153  \n",
      "23                      70  \n",
      "155                     90  \n",
      "3244                   316  \n",
      "166                    115  \n",
      "3629                   127  \n"
     ]
    }
   ],
   "source": [
    "# Find the top 10 apartments with the highest number of reviews\n",
    "top_10_apartments_by_reviews = df.nlargest(10, 'Reviews number')\n",
    "\n",
    "# Print the results\n",
    "print(top_10_apartments_by_reviews)"
   ]
  },
  {
   "cell_type": "code",
   "execution_count": 69,
   "id": "4c13b15b",
   "metadata": {},
   "outputs": [
    {
     "name": "stdout",
     "output_type": "stream",
     "text": [
      "Index(['id', 'name', 'host_id', 'Neighbourhood', 'latitude', 'longitude',\n",
      "       'Property for rent', 'Price', 'Min. Nights', 'Reviews number',\n",
      "       'Last review date', 'Reviews per Month',\n",
      "       'calculated_host_listings_count', 'Availability in days',\n",
      "       'Reviews in 12 Months'],\n",
      "      dtype='object')\n"
     ]
    }
   ],
   "source": [
    "# Print the column names of the DataFrame\n",
    "print(top_10_apartments_by_reviews.columns)"
   ]
  },
  {
   "cell_type": "code",
   "execution_count": 70,
   "id": "a6799ad7",
   "metadata": {},
   "outputs": [
    {
     "name": "stderr",
     "output_type": "stream",
     "text": [
      "C:\\Users\\olilo\\AppData\\Local\\Temp\\ipykernel_5256\\4234899583.py:13: UserWarning: Tight layout not applied. The bottom and top margins cannot be made large enough to accommodate all axes decorations.\n",
      "  plt.tight_layout()\n"
     ]
    },
    {
     "data": {
      "image/png": "[encoded data removed]",
      "text/plain": [
       "<Figure size 640x480 with 1 Axes>"
      ]
     },
     "metadata": {},
     "output_type": "display_data"
    }
   ],
   "source": [
    "# Sort the DataFrame by the number of reviews\n",
    "top_10_apartments_by_reviews = top_10_apartments_by_reviews.sort_values(by='Reviews number', ascending=False)\n",
    "\n",
    "# Create a bar chart\n",
    "plt.bar(top_10_apartments_by_reviews['name'], top_10_apartments_by_reviews['Reviews number'], color=['#c13639', '#f09c7b', '#fbe3d4', '#dbeaf2', '#87beda', '#2f79b5'])\n",
    "\n",
    "plt.xlabel('Apartment')\n",
    "plt.ylabel('Number of reviews counts')\n",
    "plt.title('Bar chart showing the number of reviews for each apartment')\n",
    "plt.xticks(rotation=90)  # Rotate x-axis labels if needed\n",
    "\n",
    "# Adjust the layout to prevent the bottom part from getting cut off\n",
    "plt.tight_layout()\n",
    "\n",
    "plt.show()"
   ]
  },
  {
   "cell_type": "code",
   "execution_count": 71,
   "id": "99699b60",
   "metadata": {},
   "outputs": [
    {
     "data": {
      "text/plain": [
       "<Figure size 640x480 with 0 Axes>"
      ]
     },
     "metadata": {},
     "output_type": "display_data"
    }
   ],
   "source": [
    "# Adjust the layout to prevent the bottom part from getting cut off\n",
    "plt.tight_layout()\n",
    "\n",
    "# Save the bar chart to a PNG file\n",
    "plt.savefig(os.path.join(path, '04 Analysis','Visualizations', 'top_10_apartments_by_reviews.png'))"
   ]
  },
  {
   "cell_type": "code",
   "execution_count": 72,
   "id": "10cd092f",
   "metadata": {},
   "outputs": [
    {
     "name": "stdout",
     "output_type": "stream",
     "text": [
      "        id                                               name  host_id  \\\n",
      "3   771217  Houseboat in Amsterdam · ★5.0 · 3 bedrooms · 3...  4068486   \n",
      "13   44391  Rental unit in Amsterdam · ★4.72 · 2 bedrooms ...   194779   \n",
      "21   62015  Rental unit in Amsterdam · ★4.91 · 1 bedroom ·...   301340   \n",
      "22   80635  Home in Amsterdam · ★4.77 · 1 bedroom · 1 bed ...   436145   \n",
      "28  155548  Rental unit in Amsterdam · ★4.76 · 1 bedroom ·...   748161   \n",
      "31  168769  Boutique hotel in Amsterdam · ★4.59 · 1 bedroo...   436145   \n",
      "32  171054  Rental unit in Amsterdam · ★4.75 · 2 bedrooms ...   815989   \n",
      "35  190943  Rental unit in Amsterdam · ★4.46 · 2 bedrooms ...   922787   \n",
      "37  212050  Rental unit in Amsterdam · ★4.70 · 2 bedrooms ...   887591   \n",
      "38  213371  Rental unit in Amsterdam · ★4.83 · 3 bedrooms ...  1100324   \n",
      "\n",
      "              Neighbourhood  latitude  longitude Property for rent  Price  \\\n",
      "3                      Zuid  52.34091    4.84802   Entire home/apt    290   \n",
      "13             Centrum-Oost  52.37168    4.91471   Entire home/apt    240   \n",
      "21                 Oud-Oost  52.36431    4.93122   Entire home/apt    120   \n",
      "22             Centrum-West  52.37828    4.89440      Private room    116   \n",
      "28                 Oud-Oost  52.36420    4.92829   Entire home/apt    200   \n",
      "31             Centrum-West  52.37956    4.89359      Private room    126   \n",
      "32   De Baarsjes - Oud-West  52.36768    4.86646   Entire home/apt    120   \n",
      "35                     Zuid  52.35222    4.84789   Entire home/apt    225   \n",
      "37   De Baarsjes - Oud-West  52.36698    4.86622   Entire home/apt    246   \n",
      "38  De Pijp - Rivierenbuurt  52.35150    4.89656   Entire home/apt    270   \n",
      "\n",
      "    Min. Nights  Reviews number Last review date  Reviews per Month  \\\n",
      "3             3              10       2019-01-02               0.11   \n",
      "13            3              44       2022-08-20               0.28   \n",
      "21            2              36       2021-11-14               0.23   \n",
      "22            3             241       2022-12-31               1.59   \n",
      "28            3              21       2019-08-20               0.14   \n",
      "31            3             280       2022-12-29               1.93   \n",
      "32            3             103       2018-11-28               0.70   \n",
      "35            3              13       2023-08-27               0.10   \n",
      "37            3              22       2023-08-21               0.15   \n",
      "38            4              24       2023-06-17               0.16   \n",
      "\n",
      "    calculated_host_listings_count  Availability in days  Reviews in 12 Months  \n",
      "3                                1                     0                     0  \n",
      "13                               1                     0                     0  \n",
      "21                               1                     0                     0  \n",
      "22                               4                     0                    13  \n",
      "28                               1                     0                     0  \n",
      "31                               4                     0                    12  \n",
      "32                               1                     0                     0  \n",
      "35                               1                     0                     3  \n",
      "37                               1                     0                     2  \n",
      "38                               1                     0                     2  \n"
     ]
    }
   ],
   "source": [
    "# Find the top 10 apartments with the lowest values in the 'Availability in days' column\n",
    "top_10_apartments_by_availability = df.nsmallest(10, 'Availability in days')\n",
    "\n",
    "# Print the results\n",
    "print(top_10_apartments_by_availability)"
   ]
  },
  {
   "cell_type": "code",
   "execution_count": 73,
   "id": "02e6d06c",
   "metadata": {},
   "outputs": [
    {
     "name": "stdout",
     "output_type": "stream",
     "text": [
      "                      id                                               name  \\\n",
      "3                 771217  Houseboat in Amsterdam · ★5.0 · 3 bedrooms · 3...   \n",
      "13                 44391  Rental unit in Amsterdam · ★4.72 · 2 bedrooms ...   \n",
      "21                 62015  Rental unit in Amsterdam · ★4.91 · 1 bedroom ·...   \n",
      "22                 80635  Home in Amsterdam · ★4.77 · 1 bedroom · 1 bed ...   \n",
      "28                155548  Rental unit in Amsterdam · ★4.76 · 1 bedroom ·...   \n",
      "...                  ...                                                ...   \n",
      "8167  949656437007365910  Rental unit in Amsterdam · ★New · 2 bedrooms ·...   \n",
      "8169  949735155282331196  Rental unit in Amsterdam · ★New · 1 bedroom · ...   \n",
      "8174  949814122808894523  Condo in Amsterdam · ★4.55 · 1 bedroom · 1 bed...   \n",
      "8286  959333340597647744  Condo in Amsterdam · ★New · 1 bedroom · 1 bed ...   \n",
      "8308  960839346651335772  Rental unit in Amsterdam · ★New · 1 bedroom · ...   \n",
      "\n",
      "        host_id            Neighbourhood   latitude  longitude  \\\n",
      "3       4068486                     Zuid  52.340910   4.848020   \n",
      "13       194779             Centrum-Oost  52.371680   4.914710   \n",
      "21       301340                 Oud-Oost  52.364310   4.931220   \n",
      "22       436145             Centrum-West  52.378280   4.894400   \n",
      "28       748161                 Oud-Oost  52.364200   4.928290   \n",
      "...         ...                      ...        ...        ...   \n",
      "8167   12859339               Westerpark  52.385736   4.867734   \n",
      "8169   13350215          Watergraafsmeer  52.355602   4.934729   \n",
      "8174    9875019               Westerpark  52.384316   4.872988   \n",
      "8286   70470031            Bos en Lommer  52.376760   4.848102   \n",
      "8308  305520632  De Pijp - Rivierenbuurt  52.352917   4.887634   \n",
      "\n",
      "     Property for rent  Price  Min. Nights  Reviews number Last review date  \\\n",
      "3      Entire home/apt    290            3              10       2019-01-02   \n",
      "13     Entire home/apt    240            3              44       2022-08-20   \n",
      "21     Entire home/apt    120            2              36       2021-11-14   \n",
      "22        Private room    116            3             241       2022-12-31   \n",
      "28     Entire home/apt    200            3              21       2019-08-20   \n",
      "...                ...    ...          ...             ...              ...   \n",
      "8167   Entire home/apt    113            5               1       2023-08-19   \n",
      "8169   Entire home/apt    250            3               0              NaN   \n",
      "8174   Entire home/apt    157            1              11       2023-09-02   \n",
      "8286   Entire home/apt    192            2               1       2023-08-29   \n",
      "8308   Entire home/apt    220            3               1       2023-08-27   \n",
      "\n",
      "      Reviews per Month  calculated_host_listings_count  Availability in days  \\\n",
      "3                  0.11                               1                     0   \n",
      "13                 0.28                               1                     0   \n",
      "21                 0.23                               1                     0   \n",
      "22                 1.59                               4                     0   \n",
      "28                 0.14                               1                     0   \n",
      "...                 ...                             ...                   ...   \n",
      "8167               1.00                               1                     0   \n",
      "8169                NaN                               1                     0   \n",
      "8174              11.00                               1                     0   \n",
      "8286               1.00                               1                     0   \n",
      "8308               1.00                               1                     0   \n",
      "\n",
      "      Reviews in 12 Months  \n",
      "3                        0  \n",
      "13                       0  \n",
      "21                       0  \n",
      "22                      13  \n",
      "28                       0  \n",
      "...                    ...  \n",
      "8167                     1  \n",
      "8169                     0  \n",
      "8174                    11  \n",
      "8286                     1  \n",
      "8308                     1  \n",
      "\n",
      "[2948 rows x 15 columns]\n"
     ]
    }
   ],
   "source": [
    "# Filter the DataFrame to show all rows with 0 value in the 'aviability_365' column\n",
    "df_filtered = df[df['Availability in days'] == 0]\n",
    "\n",
    "# Print the filtered DataFrame\n",
    "print(df_filtered)"
   ]
  },
  {
   "cell_type": "markdown",
   "id": "5126c720",
   "metadata": {},
   "source": [
    "#### 7. Question: whether you usually have one facility or several in the city?"
   ]
  },
  {
   "cell_type": "code",
   "execution_count": 74,
   "id": "9831f4a0",
   "metadata": {},
   "outputs": [
    {
     "data": {
      "text/html": [
       "<div>\n",
       "<style scoped>\n",
       "    .dataframe tbody tr th:only-of-type {\n",
       "        vertical-align: middle;\n",
       "    }\n",
       "\n",
       "    .dataframe tbody tr th {\n",
       "        vertical-align: top;\n",
       "    }\n",
       "\n",
       "    .dataframe thead th {\n",
       "        text-align: right;\n",
       "    }\n",
       "</style>\n",
       "<table border=\"1\" class=\"dataframe\">\n",
       "  <thead>\n",
       "    <tr style=\"text-align: right;\">\n",
       "      <th></th>\n",
       "      <th>id</th>\n",
       "      <th>name</th>\n",
       "      <th>host_id</th>\n",
       "      <th>Neighbourhood</th>\n",
       "      <th>latitude</th>\n",
       "      <th>longitude</th>\n",
       "      <th>Property for rent</th>\n",
       "      <th>Price</th>\n",
       "      <th>Min. Nights</th>\n",
       "      <th>Reviews number</th>\n",
       "      <th>Last review date</th>\n",
       "      <th>Reviews per Month</th>\n",
       "      <th>calculated_host_listings_count</th>\n",
       "      <th>Availability in days</th>\n",
       "      <th>Reviews in 12 Months</th>\n",
       "    </tr>\n",
       "  </thead>\n",
       "  <tbody>\n",
       "    <tr>\n",
       "      <th>0</th>\n",
       "      <td>761411</td>\n",
       "      <td>Condo in Amsterdam · ★4.74 · 1 bedroom · 1 bed...</td>\n",
       "      <td>4013546</td>\n",
       "      <td>Noord-Oost</td>\n",
       "      <td>52.40164</td>\n",
       "      <td>4.95106</td>\n",
       "      <td>Private room</td>\n",
       "      <td>61</td>\n",
       "      <td>3</td>\n",
       "      <td>303</td>\n",
       "      <td>2023-08-19</td>\n",
       "      <td>2.30</td>\n",
       "      <td>2</td>\n",
       "      <td>272</td>\n",
       "      <td>26</td>\n",
       "    </tr>\n",
       "    <tr>\n",
       "      <th>1</th>\n",
       "      <td>768274</td>\n",
       "      <td>Rental unit in Amsterdam · ★4.83 · 1 bedroom ·...</td>\n",
       "      <td>3678216</td>\n",
       "      <td>Westerpark</td>\n",
       "      <td>52.38855</td>\n",
       "      <td>4.88521</td>\n",
       "      <td>Entire home/apt</td>\n",
       "      <td>327</td>\n",
       "      <td>3</td>\n",
       "      <td>78</td>\n",
       "      <td>2023-08-16</td>\n",
       "      <td>0.64</td>\n",
       "      <td>1</td>\n",
       "      <td>16</td>\n",
       "      <td>6</td>\n",
       "    </tr>\n",
       "    <tr>\n",
       "      <th>2</th>\n",
       "      <td>768737</td>\n",
       "      <td>Boat in Amsterdam · ★4.82 · 1 bedroom · 1 bed ...</td>\n",
       "      <td>3877342</td>\n",
       "      <td>Westerpark</td>\n",
       "      <td>52.37824</td>\n",
       "      <td>4.86826</td>\n",
       "      <td>Private room</td>\n",
       "      <td>109</td>\n",
       "      <td>2</td>\n",
       "      <td>341</td>\n",
       "      <td>2023-08-24</td>\n",
       "      <td>2.73</td>\n",
       "      <td>3</td>\n",
       "      <td>29</td>\n",
       "      <td>43</td>\n",
       "    </tr>\n",
       "    <tr>\n",
       "      <th>3</th>\n",
       "      <td>771217</td>\n",
       "      <td>Houseboat in Amsterdam · ★5.0 · 3 bedrooms · 3...</td>\n",
       "      <td>4068486</td>\n",
       "      <td>Zuid</td>\n",
       "      <td>52.34091</td>\n",
       "      <td>4.84802</td>\n",
       "      <td>Entire home/apt</td>\n",
       "      <td>290</td>\n",
       "      <td>3</td>\n",
       "      <td>10</td>\n",
       "      <td>2019-01-02</td>\n",
       "      <td>0.11</td>\n",
       "      <td>1</td>\n",
       "      <td>0</td>\n",
       "      <td>0</td>\n",
       "    </tr>\n",
       "    <tr>\n",
       "      <th>4</th>\n",
       "      <td>771343</td>\n",
       "      <td>Rental unit in Amsterdam · ★4.89 · 1 bedroom ·...</td>\n",
       "      <td>2313061</td>\n",
       "      <td>Centrum-West</td>\n",
       "      <td>52.37641</td>\n",
       "      <td>4.88303</td>\n",
       "      <td>Private room</td>\n",
       "      <td>150</td>\n",
       "      <td>1</td>\n",
       "      <td>699</td>\n",
       "      <td>2023-09-01</td>\n",
       "      <td>6.62</td>\n",
       "      <td>2</td>\n",
       "      <td>196</td>\n",
       "      <td>110</td>\n",
       "    </tr>\n",
       "  </tbody>\n",
       "</table>\n",
       "</div>"
      ],
      "text/plain": [
       "       id                                               name  host_id  \\\n",
       "0  761411  Condo in Amsterdam · ★4.74 · 1 bedroom · 1 bed...  4013546   \n",
       "1  768274  Rental unit in Amsterdam · ★4.83 · 1 bedroom ·...  3678216   \n",
       "2  768737  Boat in Amsterdam · ★4.82 · 1 bedroom · 1 bed ...  3877342   \n",
       "3  771217  Houseboat in Amsterdam · ★5.0 · 3 bedrooms · 3...  4068486   \n",
       "4  771343  Rental unit in Amsterdam · ★4.89 · 1 bedroom ·...  2313061   \n",
       "\n",
       "  Neighbourhood  latitude  longitude Property for rent  Price  Min. Nights  \\\n",
       "0    Noord-Oost  52.40164    4.95106      Private room     61            3   \n",
       "1    Westerpark  52.38855    4.88521   Entire home/apt    327            3   \n",
       "2    Westerpark  52.37824    4.86826      Private room    109            2   \n",
       "3          Zuid  52.34091    4.84802   Entire home/apt    290            3   \n",
       "4  Centrum-West  52.37641    4.88303      Private room    150            1   \n",
       "\n",
       "   Reviews number Last review date  Reviews per Month  \\\n",
       "0             303       2023-08-19               2.30   \n",
       "1              78       2023-08-16               0.64   \n",
       "2             341       2023-08-24               2.73   \n",
       "3              10       2019-01-02               0.11   \n",
       "4             699       2023-09-01               6.62   \n",
       "\n",
       "   calculated_host_listings_count  Availability in days  Reviews in 12 Months  \n",
       "0                               2                   272                    26  \n",
       "1                               1                    16                     6  \n",
       "2                               3                    29                    43  \n",
       "3                               1                     0                     0  \n",
       "4                               2                   196                   110  "
      ]
     },
     "execution_count": 74,
     "metadata": {},
     "output_type": "execute_result"
    }
   ],
   "source": [
    "# Output for easy workflow\n",
    "df.head()"
   ]
  },
  {
   "cell_type": "code",
   "execution_count": 75,
   "id": "33381d61",
   "metadata": {},
   "outputs": [],
   "source": [
    "# Create a subset\n",
    "sub_host=df[['host_id','calculated_host_listings_count']]"
   ]
  },
  {
   "cell_type": "code",
   "execution_count": 76,
   "id": "02427b45",
   "metadata": {},
   "outputs": [
    {
     "name": "stdout",
     "output_type": "stream",
     "text": [
      "host_id\n",
      "4456680      27\n",
      "203731852    22\n",
      "14574533     21\n",
      "46691672     17\n",
      "364305280    17\n",
      "             ..\n",
      "14229551      1\n",
      "6472394       1\n",
      "90747703      1\n",
      "43718573      1\n",
      "2876582       1\n",
      "Name: count, Length: 7269, dtype: int64\n"
     ]
    }
   ],
   "source": [
    "# Count the number \n",
    "sub_host_id =sub_host['host_id'].value_counts()\n",
    "\n",
    "# Print the room counts\n",
    "print(sub_host_id)"
   ]
  },
  {
   "cell_type": "code",
   "execution_count": 77,
   "id": "d61eb45a",
   "metadata": {},
   "outputs": [
    {
     "name": "stdout",
     "output_type": "stream",
     "text": [
      "calculated_host_listings_count\n",
      "10      20\n",
      "21      21\n",
      "22      22\n",
      "11      22\n",
      "12      24\n",
      "27      27\n",
      "8       32\n",
      "17      34\n",
      "14      42\n",
      "9       72\n",
      "7       77\n",
      "6       84\n",
      "5      100\n",
      "4      120\n",
      "3      228\n",
      "2      738\n",
      "1     6723\n",
      "Name: count, dtype: int64\n"
     ]
    }
   ],
   "source": [
    "# Count the number of hosts in each group\n",
    "sub_host_count = sub_host['calculated_host_listings_count'].value_counts(ascending=True)\n",
    "\n",
    "# Print the room counts\n",
    "print(sub_host_count)"
   ]
  },
  {
   "cell_type": "code",
   "execution_count": 78,
   "id": "0736c3b1",
   "metadata": {},
   "outputs": [
    {
     "data": {
      "image/png": "[encoded data removed]",
      "text/plain": [
       "<Figure size 800x600 with 1 Axes>"
      ]
     },
     "metadata": {},
     "output_type": "display_data"
    }
   ],
   "source": [
    "# Bar chart as second output\n",
    "bar_host_count = sub_host_count.plot(kind='barh', color=['#c13639', '#f09c7b', '#fbe3d4', '#dbeaf2', '#87beda', '#2f79b5'], figsize=(8, 6))\n",
    "\n",
    "# Set the labels and title\n",
    "plt.xlabel('Count', fontsize=12)\n",
    "plt.ylabel('Calculated host listing', fontsize=12)\n",
    "plt.title(\"Number of properties available for rent\", fontsize=12)\n",
    "\n",
    "# Use tight_layout to prevent label overlap\n",
    "plt.tight_layout()"
   ]
  },
  {
   "cell_type": "code",
   "execution_count": 79,
   "id": "0551aea4",
   "metadata": {},
   "outputs": [],
   "source": [
    "# Export the visualization it outside\n",
    "bar_host_count.figure.savefig(os.path.join(path, '04 Analysis','Visualizations', 'bar_host_count.png'))"
   ]
  },
  {
   "cell_type": "code",
   "execution_count": 80,
   "id": "5fb73ce1",
   "metadata": {},
   "outputs": [],
   "source": [
    "# Export the DataFrame to an Excel file\n",
    "df.to_excel('my_data.xlsx', index=False)\n",
    "# Export data\n",
    "df.to_csv(os.path.join(path, '02 Data', 'Prepared Data', 'data_to_work.csv'))"
   ]
  }
 ],
 "metadata": {
  "kernelspec": {
   "display_name": "Python 3 (ipykernel)",
   "language": "python",
   "name": "python3"
  },
  "language_info": {
   "codemirror_mode": {
    "name": "ipython",
    "version": 3
   },
   "file_extension": ".py",
   "mimetype": "text/x-python",
   "name": "python",
   "nbconvert_exporter": "python",
   "pygments_lexer": "ipython3",
   "version": "3.11.4"
  }
 },
 "nbformat": 4,
 "nbformat_minor": 5
}
