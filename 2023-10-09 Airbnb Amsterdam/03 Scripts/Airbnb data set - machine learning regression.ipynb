{
 "cells": [
  {
   "cell_type": "markdown",
   "id": "efb19294",
   "metadata": {},
   "source": [
    "# Machine Learning: Regression\n",
    "## Main steps carried out:\n",
    "\n",
    "### 1. Import libraries\n",
    "### 2. Import Data\n",
    "### 3. Data cleaning control\n",
    "### 4. Data preparation I\n",
    "### 5. Regression analysis\n",
    "### 6.Compare how the regression fits the training set\n",
    "### 7. Data preparation II\n",
    "### 8. Regression analysis II\n",
    "### 9.Compare how the regression fits the training set II"
   ]
  },
  {
   "cell_type": "markdown",
   "id": "e51c43ed",
   "metadata": {},
   "source": [
    "### 1. Import libraries"
   ]
  },
  {
   "cell_type": "code",
   "execution_count": 1,
   "id": "d57b73bc",
   "metadata": {},
   "outputs": [],
   "source": [
    "# Import libraries\n",
    "import pandas as pd\n",
    "import numpy as np\n",
    "import seaborn as sns\n",
    "import matplotlib\n",
    "import matplotlib.pyplot as plt\n",
    "import os\n",
    "import sklearn\n",
    "from sklearn.model_selection import train_test_split \n",
    "from sklearn.linear_model import LinearRegression\n",
    "from sklearn.metrics import mean_squared_error, r2_score"
   ]
  },
  {
   "cell_type": "code",
   "execution_count": 2,
   "id": "5c506215",
   "metadata": {},
   "outputs": [],
   "source": [
    "# Set display options to show all columns without truncation\n",
    "pd.set_option('display.max_columns', None)"
   ]
  },
  {
   "cell_type": "code",
   "execution_count": 3,
   "id": "cf5b5e94",
   "metadata": {},
   "outputs": [],
   "source": [
    "# Created charts are displayed in the notebook without the need to \"call\" them specifically\n",
    "%matplotlib inline"
   ]
  },
  {
   "cell_type": "code",
   "execution_count": 4,
   "id": "0f8cd503",
   "metadata": {},
   "outputs": [],
   "source": [
    "# Creating a path for faster import and export\n",
    "path=r\"C:\\Users\\olilo\\OneDrive\\Dokumente\\CF\\Data Analytics Immersion_Week 14-15\\2023-10-09 Airbnb Amsterdam\""
   ]
  },
  {
   "cell_type": "code",
   "execution_count": 20,
   "id": "1537bb37",
   "metadata": {},
   "outputs": [],
   "source": [
    "# Set the color palette to \"RuBu\"\n",
    "sns.set_palette(\"RdBu\")"
   ]
  },
  {
   "cell_type": "markdown",
   "id": "a4066e37",
   "metadata": {},
   "source": [
    "### 2. Import Data"
   ]
  },
  {
   "cell_type": "code",
   "execution_count": 7,
   "id": "63e13c3d",
   "metadata": {},
   "outputs": [],
   "source": [
    "# Import datafarme\n",
    "df = pd.read_csv(os.path.join(path, '02 Data', 'Prepared Data', 'df_maps.csv'), index_col = False)"
   ]
  },
  {
   "cell_type": "code",
   "execution_count": 10,
   "id": "b7cf5413",
   "metadata": {},
   "outputs": [
    {
     "data": {
      "text/plain": [
       "(8386, 15)"
      ]
     },
     "execution_count": 10,
     "metadata": {},
     "output_type": "execute_result"
    }
   ],
   "source": [
    "# Output check df_list\n",
    "df.shape"
   ]
  },
  {
   "cell_type": "code",
   "execution_count": 12,
   "id": "e1de4b36",
   "metadata": {},
   "outputs": [
    {
     "data": {
      "text/html": [
       "<div>\n",
       "<style scoped>\n",
       "    .dataframe tbody tr th:only-of-type {\n",
       "        vertical-align: middle;\n",
       "    }\n",
       "\n",
       "    .dataframe tbody tr th {\n",
       "        vertical-align: top;\n",
       "    }\n",
       "\n",
       "    .dataframe thead th {\n",
       "        text-align: right;\n",
       "    }\n",
       "</style>\n",
       "<table border=\"1\" class=\"dataframe\">\n",
       "  <thead>\n",
       "    <tr style=\"text-align: right;\">\n",
       "      <th></th>\n",
       "      <th>Unnamed: 0</th>\n",
       "      <th>id</th>\n",
       "      <th>host_id</th>\n",
       "      <th>neighbourhood</th>\n",
       "      <th>latitude</th>\n",
       "      <th>longitude</th>\n",
       "      <th>room_type</th>\n",
       "      <th>price</th>\n",
       "      <th>minimum_nights</th>\n",
       "      <th>number_of_reviews</th>\n",
       "      <th>reviews_per_month</th>\n",
       "      <th>calculated_host_listings_count</th>\n",
       "      <th>availability_365</th>\n",
       "      <th>number_of_reviews_ltm</th>\n",
       "      <th>price_groups</th>\n",
       "    </tr>\n",
       "  </thead>\n",
       "  <tbody>\n",
       "    <tr>\n",
       "      <th>0</th>\n",
       "      <td>0</td>\n",
       "      <td>761411</td>\n",
       "      <td>4013546</td>\n",
       "      <td>Noord-Oost</td>\n",
       "      <td>52.40164</td>\n",
       "      <td>4.95106</td>\n",
       "      <td>Private room</td>\n",
       "      <td>61</td>\n",
       "      <td>3</td>\n",
       "      <td>303</td>\n",
       "      <td>2.30</td>\n",
       "      <td>2</td>\n",
       "      <td>272</td>\n",
       "      <td>26</td>\n",
       "      <td>Averagely Low Price</td>\n",
       "    </tr>\n",
       "    <tr>\n",
       "      <th>1</th>\n",
       "      <td>1</td>\n",
       "      <td>768274</td>\n",
       "      <td>3678216</td>\n",
       "      <td>Westerpark</td>\n",
       "      <td>52.38855</td>\n",
       "      <td>4.88521</td>\n",
       "      <td>Entire home/apt</td>\n",
       "      <td>327</td>\n",
       "      <td>3</td>\n",
       "      <td>78</td>\n",
       "      <td>0.64</td>\n",
       "      <td>1</td>\n",
       "      <td>16</td>\n",
       "      <td>6</td>\n",
       "      <td>Increased Price</td>\n",
       "    </tr>\n",
       "    <tr>\n",
       "      <th>2</th>\n",
       "      <td>2</td>\n",
       "      <td>768737</td>\n",
       "      <td>3877342</td>\n",
       "      <td>Westerpark</td>\n",
       "      <td>52.37824</td>\n",
       "      <td>4.86826</td>\n",
       "      <td>Private room</td>\n",
       "      <td>109</td>\n",
       "      <td>2</td>\n",
       "      <td>341</td>\n",
       "      <td>2.73</td>\n",
       "      <td>3</td>\n",
       "      <td>29</td>\n",
       "      <td>43</td>\n",
       "      <td>Averagely Low Price</td>\n",
       "    </tr>\n",
       "    <tr>\n",
       "      <th>3</th>\n",
       "      <td>3</td>\n",
       "      <td>771217</td>\n",
       "      <td>4068486</td>\n",
       "      <td>Zuid</td>\n",
       "      <td>52.34091</td>\n",
       "      <td>4.84802</td>\n",
       "      <td>Entire home/apt</td>\n",
       "      <td>290</td>\n",
       "      <td>3</td>\n",
       "      <td>10</td>\n",
       "      <td>0.11</td>\n",
       "      <td>1</td>\n",
       "      <td>0</td>\n",
       "      <td>0</td>\n",
       "      <td>Increased Price</td>\n",
       "    </tr>\n",
       "    <tr>\n",
       "      <th>4</th>\n",
       "      <td>4</td>\n",
       "      <td>771343</td>\n",
       "      <td>2313061</td>\n",
       "      <td>Centrum-West</td>\n",
       "      <td>52.37641</td>\n",
       "      <td>4.88303</td>\n",
       "      <td>Private room</td>\n",
       "      <td>150</td>\n",
       "      <td>1</td>\n",
       "      <td>699</td>\n",
       "      <td>6.62</td>\n",
       "      <td>2</td>\n",
       "      <td>196</td>\n",
       "      <td>110</td>\n",
       "      <td>Average Price</td>\n",
       "    </tr>\n",
       "  </tbody>\n",
       "</table>\n",
       "</div>"
      ],
      "text/plain": [
       "   Unnamed: 0      id  host_id neighbourhood  latitude  longitude  \\\n",
       "0           0  761411  4013546    Noord-Oost  52.40164    4.95106   \n",
       "1           1  768274  3678216    Westerpark  52.38855    4.88521   \n",
       "2           2  768737  3877342    Westerpark  52.37824    4.86826   \n",
       "3           3  771217  4068486          Zuid  52.34091    4.84802   \n",
       "4           4  771343  2313061  Centrum-West  52.37641    4.88303   \n",
       "\n",
       "         room_type  price  minimum_nights  number_of_reviews  \\\n",
       "0     Private room     61               3                303   \n",
       "1  Entire home/apt    327               3                 78   \n",
       "2     Private room    109               2                341   \n",
       "3  Entire home/apt    290               3                 10   \n",
       "4     Private room    150               1                699   \n",
       "\n",
       "   reviews_per_month  calculated_host_listings_count  availability_365  \\\n",
       "0               2.30                               2               272   \n",
       "1               0.64                               1                16   \n",
       "2               2.73                               3                29   \n",
       "3               0.11                               1                 0   \n",
       "4               6.62                               2               196   \n",
       "\n",
       "   number_of_reviews_ltm         price_groups  \n",
       "0                     26  Averagely Low Price  \n",
       "1                      6      Increased Price  \n",
       "2                     43  Averagely Low Price  \n",
       "3                      0      Increased Price  \n",
       "4                    110        Average Price  "
      ]
     },
     "execution_count": 12,
     "metadata": {},
     "output_type": "execute_result"
    }
   ],
   "source": [
    "df.head()"
   ]
  },
  {
   "cell_type": "markdown",
   "id": "6ef11699",
   "metadata": {},
   "source": [
    "### 3. Data cleaning control"
   ]
  },
  {
   "cell_type": "code",
   "execution_count": 13,
   "id": "4b2790b7",
   "metadata": {},
   "outputs": [
    {
     "data": {
      "text/plain": [
       "Unnamed: 0                        0\n",
       "id                                0\n",
       "host_id                           0\n",
       "neighbourhood                     0\n",
       "latitude                          0\n",
       "longitude                         0\n",
       "room_type                         0\n",
       "price                             0\n",
       "minimum_nights                    0\n",
       "number_of_reviews                 0\n",
       "reviews_per_month                 0\n",
       "calculated_host_listings_count    0\n",
       "availability_365                  0\n",
       "number_of_reviews_ltm             0\n",
       "price_groups                      0\n",
       "dtype: int64"
      ]
     },
     "execution_count": 13,
     "metadata": {},
     "output_type": "execute_result"
    }
   ],
   "source": [
    "# Check for missing values\n",
    "df.isnull().sum()"
   ]
  },
  {
   "cell_type": "code",
   "execution_count": 15,
   "id": "156a6025",
   "metadata": {},
   "outputs": [],
   "source": [
    "# Duplicates check\n",
    "dups = df.duplicated()"
   ]
  },
  {
   "cell_type": "code",
   "execution_count": 16,
   "id": "aaee24b2",
   "metadata": {},
   "outputs": [
    {
     "data": {
      "text/plain": [
       "(8386,)"
      ]
     },
     "execution_count": 16,
     "metadata": {},
     "output_type": "execute_result"
    }
   ],
   "source": [
    "# No duolications\n",
    "dups.shape "
   ]
  },
  {
   "cell_type": "markdown",
   "id": "ca75567b",
   "metadata": {},
   "source": [
    "### 4. Data preparation I"
   ]
  },
  {
   "cell_type": "code",
   "execution_count": 21,
   "id": "28aac73d",
   "metadata": {},
   "outputs": [
    {
     "name": "stderr",
     "output_type": "stream",
     "text": [
      "C:\\Users\\olilo\\AppData\\Local\\Temp\\ipykernel_1888\\264471956.py:2: UserWarning: \n",
      "\n",
      "`distplot` is a deprecated function and will be removed in seaborn v0.14.0.\n",
      "\n",
      "Please adapt your code to use either `displot` (a figure-level function with\n",
      "similar flexibility) or `histplot` (an axes-level function for histograms).\n",
      "\n",
      "For a guide to updating your code to use the new functions, please see\n",
      "https://gist.github.com/mwaskom/de44147ed2974457ad6372750bbe5751\n",
      "\n",
      "  sns.distplot(df['price'], bins=50, color=sns.color_palette()[0])\n"
     ]
    },
    {
     "data": {
      "text/plain": [
       "<Axes: xlabel='price', ylabel='Density'>"
      ]
     },
     "execution_count": 21,
     "metadata": {},
     "output_type": "execute_result"
    },
    {
     "data": {
      "image/png": "[encoded data removed]",
      "text/plain": [
       "<Figure size 640x480 with 1 Axes>"
      ]
     },
     "metadata": {},
     "output_type": "display_data"
    }
   ],
   "source": [
    "# Assuming you have a DataFrame named df with a 'price' column\n",
    "sns.distplot(df['price'], bins=50, color=sns.color_palette()[0])"
   ]
  },
  {
   "cell_type": "code",
   "execution_count": 31,
   "id": "eefe15fa",
   "metadata": {},
   "outputs": [
    {
     "data": {
      "text/html": [
       "<div>\n",
       "<style scoped>\n",
       "    .dataframe tbody tr th:only-of-type {\n",
       "        vertical-align: middle;\n",
       "    }\n",
       "\n",
       "    .dataframe tbody tr th {\n",
       "        vertical-align: top;\n",
       "    }\n",
       "\n",
       "    .dataframe thead th {\n",
       "        text-align: right;\n",
       "    }\n",
       "</style>\n",
       "<table border=\"1\" class=\"dataframe\">\n",
       "  <thead>\n",
       "    <tr style=\"text-align: right;\">\n",
       "      <th></th>\n",
       "      <th>Unnamed: 0</th>\n",
       "      <th>id</th>\n",
       "      <th>host_id</th>\n",
       "      <th>latitude</th>\n",
       "      <th>longitude</th>\n",
       "      <th>price</th>\n",
       "      <th>minimum_nights</th>\n",
       "      <th>number_of_reviews</th>\n",
       "      <th>reviews_per_month</th>\n",
       "      <th>calculated_host_listings_count</th>\n",
       "      <th>availability_365</th>\n",
       "      <th>number_of_reviews_ltm</th>\n",
       "    </tr>\n",
       "  </thead>\n",
       "  <tbody>\n",
       "    <tr>\n",
       "      <th>count</th>\n",
       "      <td>8386.000000</td>\n",
       "      <td>8.386000e+03</td>\n",
       "      <td>8.386000e+03</td>\n",
       "      <td>8386.000000</td>\n",
       "      <td>8386.000000</td>\n",
       "      <td>8386.000000</td>\n",
       "      <td>8386.000000</td>\n",
       "      <td>8386.000000</td>\n",
       "      <td>8386.000000</td>\n",
       "      <td>8386.000000</td>\n",
       "      <td>8386.000000</td>\n",
       "      <td>8386.000000</td>\n",
       "    </tr>\n",
       "    <tr>\n",
       "      <th>mean</th>\n",
       "      <td>4192.500000</td>\n",
       "      <td>2.973884e+17</td>\n",
       "      <td>1.077878e+08</td>\n",
       "      <td>52.366603</td>\n",
       "      <td>4.889834</td>\n",
       "      <td>254.489864</td>\n",
       "      <td>5.046625</td>\n",
       "      <td>45.437753</td>\n",
       "      <td>1.175696</td>\n",
       "      <td>1.831624</td>\n",
       "      <td>82.825066</td>\n",
       "      <td>10.848080</td>\n",
       "    </tr>\n",
       "    <tr>\n",
       "      <th>std</th>\n",
       "      <td>2420.974012</td>\n",
       "      <td>3.905819e+17</td>\n",
       "      <td>1.448316e+08</td>\n",
       "      <td>0.017191</td>\n",
       "      <td>0.035403</td>\n",
       "      <td>395.468275</td>\n",
       "      <td>34.710395</td>\n",
       "      <td>107.352805</td>\n",
       "      <td>2.139257</td>\n",
       "      <td>2.857336</td>\n",
       "      <td>113.568083</td>\n",
       "      <td>30.815465</td>\n",
       "    </tr>\n",
       "    <tr>\n",
       "      <th>min</th>\n",
       "      <td>0.000000</td>\n",
       "      <td>2.818000e+03</td>\n",
       "      <td>3.159000e+03</td>\n",
       "      <td>52.290340</td>\n",
       "      <td>4.755870</td>\n",
       "      <td>18.000000</td>\n",
       "      <td>1.000000</td>\n",
       "      <td>0.000000</td>\n",
       "      <td>0.010000</td>\n",
       "      <td>1.000000</td>\n",
       "      <td>0.000000</td>\n",
       "      <td>0.000000</td>\n",
       "    </tr>\n",
       "    <tr>\n",
       "      <th>25%</th>\n",
       "      <td>2096.250000</td>\n",
       "      <td>1.851464e+07</td>\n",
       "      <td>1.025536e+07</td>\n",
       "      <td>52.355640</td>\n",
       "      <td>4.865501</td>\n",
       "      <td>150.000000</td>\n",
       "      <td>2.000000</td>\n",
       "      <td>3.000000</td>\n",
       "      <td>0.300000</td>\n",
       "      <td>1.000000</td>\n",
       "      <td>0.000000</td>\n",
       "      <td>0.000000</td>\n",
       "    </tr>\n",
       "    <tr>\n",
       "      <th>50%</th>\n",
       "      <td>4192.500000</td>\n",
       "      <td>4.242761e+07</td>\n",
       "      <td>3.642318e+07</td>\n",
       "      <td>52.365769</td>\n",
       "      <td>4.887580</td>\n",
       "      <td>207.000000</td>\n",
       "      <td>3.000000</td>\n",
       "      <td>10.000000</td>\n",
       "      <td>0.680000</td>\n",
       "      <td>1.000000</td>\n",
       "      <td>18.000000</td>\n",
       "      <td>3.000000</td>\n",
       "    </tr>\n",
       "    <tr>\n",
       "      <th>75%</th>\n",
       "      <td>6288.750000</td>\n",
       "      <td>7.227894e+17</td>\n",
       "      <td>1.444334e+08</td>\n",
       "      <td>52.376440</td>\n",
       "      <td>4.908708</td>\n",
       "      <td>300.000000</td>\n",
       "      <td>4.000000</td>\n",
       "      <td>36.000000</td>\n",
       "      <td>1.175696</td>\n",
       "      <td>1.000000</td>\n",
       "      <td>142.000000</td>\n",
       "      <td>8.000000</td>\n",
       "    </tr>\n",
       "    <tr>\n",
       "      <th>max</th>\n",
       "      <td>8385.000000</td>\n",
       "      <td>9.722182e+17</td>\n",
       "      <td>5.349544e+08</td>\n",
       "      <td>52.425159</td>\n",
       "      <td>5.026430</td>\n",
       "      <td>27857.000000</td>\n",
       "      <td>1001.000000</td>\n",
       "      <td>3199.000000</td>\n",
       "      <td>120.110000</td>\n",
       "      <td>27.000000</td>\n",
       "      <td>365.000000</td>\n",
       "      <td>1689.000000</td>\n",
       "    </tr>\n",
       "  </tbody>\n",
       "</table>\n",
       "</div>"
      ],
      "text/plain": [
       "        Unnamed: 0            id       host_id     latitude    longitude  \\\n",
       "count  8386.000000  8.386000e+03  8.386000e+03  8386.000000  8386.000000   \n",
       "mean   4192.500000  2.973884e+17  1.077878e+08    52.366603     4.889834   \n",
       "std    2420.974012  3.905819e+17  1.448316e+08     0.017191     0.035403   \n",
       "min       0.000000  2.818000e+03  3.159000e+03    52.290340     4.755870   \n",
       "25%    2096.250000  1.851464e+07  1.025536e+07    52.355640     4.865501   \n",
       "50%    4192.500000  4.242761e+07  3.642318e+07    52.365769     4.887580   \n",
       "75%    6288.750000  7.227894e+17  1.444334e+08    52.376440     4.908708   \n",
       "max    8385.000000  9.722182e+17  5.349544e+08    52.425159     5.026430   \n",
       "\n",
       "              price  minimum_nights  number_of_reviews  reviews_per_month  \\\n",
       "count   8386.000000     8386.000000        8386.000000        8386.000000   \n",
       "mean     254.489864        5.046625          45.437753           1.175696   \n",
       "std      395.468275       34.710395         107.352805           2.139257   \n",
       "min       18.000000        1.000000           0.000000           0.010000   \n",
       "25%      150.000000        2.000000           3.000000           0.300000   \n",
       "50%      207.000000        3.000000          10.000000           0.680000   \n",
       "75%      300.000000        4.000000          36.000000           1.175696   \n",
       "max    27857.000000     1001.000000        3199.000000         120.110000   \n",
       "\n",
       "       calculated_host_listings_count  availability_365  number_of_reviews_ltm  \n",
       "count                     8386.000000       8386.000000            8386.000000  \n",
       "mean                         1.831624         82.825066              10.848080  \n",
       "std                          2.857336        113.568083              30.815465  \n",
       "min                          1.000000          0.000000               0.000000  \n",
       "25%                          1.000000          0.000000               0.000000  \n",
       "50%                          1.000000         18.000000               3.000000  \n",
       "75%                          1.000000        142.000000               8.000000  \n",
       "max                         27.000000        365.000000            1689.000000  "
      ]
     },
     "execution_count": 31,
     "metadata": {},
     "output_type": "execute_result"
    }
   ],
   "source": [
    "df.describe()"
   ]
  },
  {
   "cell_type": "code",
   "execution_count": 24,
   "id": "4e6a377e",
   "metadata": {},
   "outputs": [
    {
     "data": {
      "image/png": "[encoded data removed]",
      "text/plain": [
       "<Figure size 640x480 with 1 Axes>"
      ]
     },
     "metadata": {},
     "output_type": "display_data"
    }
   ],
   "source": [
    "# Create a scatterplot using matplotlib for another look at how the chosen variables plot against each other.\n",
    "df.plot(x = 'price', y='availability_365',style='o') \n",
    "\n",
    "plt.title('Price vs Availability', fontsize=16)  \n",
    "plt.xlabel('Price', fontsize=12) \n",
    "plt.ylabel('Availability_365', fontsize=12)  \n",
    "\n",
    "plt.show()"
   ]
  },
  {
   "cell_type": "code",
   "execution_count": 32,
   "id": "302115b2",
   "metadata": {},
   "outputs": [],
   "source": [
    "# Reshape the variables into NumPy arrays and put them into separate objects\n",
    "X = df['price'].values.reshape(-1,1)\n",
    "y = df['availability_365'].values.reshape(-1,1)"
   ]
  },
  {
   "cell_type": "code",
   "execution_count": 34,
   "id": "973d1f90",
   "metadata": {},
   "outputs": [
    {
     "name": "stdout",
     "output_type": "stream",
     "text": [
      "[[ 61]\n",
      " [327]\n",
      " [109]\n",
      " ...\n",
      " [135]\n",
      " [160]\n",
      " [211]]\n"
     ]
    }
   ],
   "source": [
    "# Output check\n",
    "print(X)"
   ]
  },
  {
   "cell_type": "code",
   "execution_count": 35,
   "id": "3d480af2",
   "metadata": {},
   "outputs": [
    {
     "name": "stdout",
     "output_type": "stream",
     "text": [
      "[[272]\n",
      " [ 16]\n",
      " [ 29]\n",
      " ...\n",
      " [ 13]\n",
      " [  6]\n",
      " [ 55]]\n"
     ]
    }
   ],
   "source": [
    "# Output check\n",
    "print(y)"
   ]
  },
  {
   "cell_type": "code",
   "execution_count": 36,
   "id": "5adf5a79",
   "metadata": {},
   "outputs": [],
   "source": [
    "# Split data into a training set and a test set\n",
    "X_train, X_test, y_train, y_test = train_test_split(X, y, test_size=0.3, random_state=0)"
   ]
  },
  {
   "cell_type": "markdown",
   "id": "9e9d46db",
   "metadata": {},
   "source": [
    "### 5. Regression analysis"
   ]
  },
  {
   "cell_type": "code",
   "execution_count": 37,
   "id": "05dea4bb",
   "metadata": {},
   "outputs": [],
   "source": [
    "# Create a regression object\n",
    "regression = LinearRegression()"
   ]
  },
  {
   "cell_type": "code",
   "execution_count": 38,
   "id": "81316a34",
   "metadata": {},
   "outputs": [
    {
     "data": {
      "text/html": [
       "<style>#sk-container-id-1 {color: black;}#sk-container-id-1 pre{padding: 0;}#sk-container-id-1 div.sk-toggleable {background-color: white;}#sk-container-id-1 label.sk-toggleable__label {cursor: pointer;display: block;width: 100%;margin-bottom: 0;padding: 0.3em;box-sizing: border-box;text-align: center;}#sk-container-id-1 label.sk-toggleable__label-arrow:before {content: \"▸\";float: left;margin-right: 0.25em;color: #696969;}#sk-container-id-1 label.sk-toggleable__label-arrow:hover:before {color: black;}#sk-container-id-1 div.sk-estimator:hover label.sk-toggleable__label-arrow:before {color: black;}#sk-container-id-1 div.sk-toggleable__content {max-height: 0;max-width: 0;overflow: hidden;text-align: left;background-color: #f0f8ff;}#sk-container-id-1 div.sk-toggleable__content pre {margin: 0.2em;color: black;border-radius: 0.25em;background-color: #f0f8ff;}#sk-container-id-1 input.sk-toggleable__control:checked~div.sk-toggleable__content {max-height: 200px;max-width: 100%;overflow: auto;}#sk-container-id-1 input.sk-toggleable__control:checked~label.sk-toggleable__label-arrow:before {content: \"▾\";}#sk-container-id-1 div.sk-estimator input.sk-toggleable__control:checked~label.sk-toggleable__label {background-color: #d4ebff;}#sk-container-id-1 div.sk-label input.sk-toggleable__control:checked~label.sk-toggleable__label {background-color: #d4ebff;}#sk-container-id-1 input.sk-hidden--visually {border: 0;clip: rect(1px 1px 1px 1px);clip: rect(1px, 1px, 1px, 1px);height: 1px;margin: -1px;overflow: hidden;padding: 0;position: absolute;width: 1px;}#sk-container-id-1 div.sk-estimator {font-family: monospace;background-color: #f0f8ff;border: 1px dotted black;border-radius: 0.25em;box-sizing: border-box;margin-bottom: 0.5em;}#sk-container-id-1 div.sk-estimator:hover {background-color: #d4ebff;}#sk-container-id-1 div.sk-parallel-item::after {content: \"\";width: 100%;border-bottom: 1px solid gray;flex-grow: 1;}#sk-container-id-1 div.sk-label:hover label.sk-toggleable__label {background-color: #d4ebff;}#sk-container-id-1 div.sk-serial::before {content: \"\";position: absolute;border-left: 1px solid gray;box-sizing: border-box;top: 0;bottom: 0;left: 50%;z-index: 0;}#sk-container-id-1 div.sk-serial {display: flex;flex-direction: column;align-items: center;background-color: white;padding-right: 0.2em;padding-left: 0.2em;position: relative;}#sk-container-id-1 div.sk-item {position: relative;z-index: 1;}#sk-container-id-1 div.sk-parallel {display: flex;align-items: stretch;justify-content: center;background-color: white;position: relative;}#sk-container-id-1 div.sk-item::before, #sk-container-id-1 div.sk-parallel-item::before {content: \"\";position: absolute;border-left: 1px solid gray;box-sizing: border-box;top: 0;bottom: 0;left: 50%;z-index: -1;}#sk-container-id-1 div.sk-parallel-item {display: flex;flex-direction: column;z-index: 1;position: relative;background-color: white;}#sk-container-id-1 div.sk-parallel-item:first-child::after {align-self: flex-end;width: 50%;}#sk-container-id-1 div.sk-parallel-item:last-child::after {align-self: flex-start;width: 50%;}#sk-container-id-1 div.sk-parallel-item:only-child::after {width: 0;}#sk-container-id-1 div.sk-dashed-wrapped {border: 1px dashed gray;margin: 0 0.4em 0.5em 0.4em;box-sizing: border-box;padding-bottom: 0.4em;background-color: white;}#sk-container-id-1 div.sk-label label {font-family: monospace;font-weight: bold;display: inline-block;line-height: 1.2em;}#sk-container-id-1 div.sk-label-container {text-align: center;}#sk-container-id-1 div.sk-container {/* jupyter's `normalize.less` sets `[hidden] { display: none; }` but bootstrap.min.css set `[hidden] { display: none !important; }` so we also need the `!important` here to be able to override the default hidden behavior on the sphinx rendered scikit-learn.org. See: https://github.com/scikit-learn/scikit-learn/issues/21755 */display: inline-block !important;position: relative;}#sk-container-id-1 div.sk-text-repr-fallback {display: none;}</style><div id=\"sk-container-id-1\" class=\"sk-top-container\"><div class=\"sk-text-repr-fallback\"><pre>LinearRegression()</pre><b>In a Jupyter environment, please rerun this cell to show the HTML representation or trust the notebook. <br />On GitHub, the HTML representation is unable to render, please try loading this page with nbviewer.org.</b></div><div class=\"sk-container\" hidden><div class=\"sk-item\"><div class=\"sk-estimator sk-toggleable\"><input class=\"sk-toggleable__control sk-hidden--visually\" id=\"sk-estimator-id-1\" type=\"checkbox\" checked><label for=\"sk-estimator-id-1\" class=\"sk-toggleable__label sk-toggleable__label-arrow\">LinearRegression</label><div class=\"sk-toggleable__content\"><pre>LinearRegression()</pre></div></div></div></div></div>"
      ],
      "text/plain": [
       "LinearRegression()"
      ]
     },
     "execution_count": 38,
     "metadata": {},
     "output_type": "execute_result"
    }
   ],
   "source": [
    "# Fit the regression object onto the training set\n",
    "regression.fit(X_train, y_train)"
   ]
  },
  {
   "cell_type": "code",
   "execution_count": 39,
   "id": "1f24f808",
   "metadata": {},
   "outputs": [],
   "source": [
    "# Predict the values of y using X.\n",
    "y_predicted = regression.predict(X_test)"
   ]
  },
  {
   "cell_type": "code",
   "execution_count": 42,
   "id": "064a2fbb",
   "metadata": {},
   "outputs": [
    {
     "name": "stdout",
     "output_type": "stream",
     "text": [
      "['#c13639', '#f09c7b', '#fbe3d4', '#dbeaf2', '#87beda', '#2f79b5']\n"
     ]
    }
   ],
   "source": [
    "# Define the name of the color palette as a string\n",
    "palette_name = \"RdBu\"\n",
    "\n",
    "# Get the color palette\n",
    "colors = sns.color_palette(palette_name)\n",
    "\n",
    "# Convert the colors to hexadecimal values and print them\n",
    "hex_colors = [color for color in colors.as_hex()]\n",
    "print(hex_colors)"
   ]
  },
  {
   "cell_type": "code",
   "execution_count": 45,
   "id": "a5450d63",
   "metadata": {},
   "outputs": [
    {
     "data": {
      "image/png": "[encoded data removed]",
      "text/plain": [
       "<Figure size 640x480 with 1 Axes>"
      ]
     },
     "metadata": {},
     "output_type": "display_data"
    }
   ],
   "source": [
    "# Create a plot that shows the regression line from the model on the test set\n",
    "plot_test = plt\n",
    "\n",
    "plot_test.scatter(X_test, y_test, color='#c13639', s = 15)\n",
    "plot_test.plot(X_test, y_predicted, color='#87beda', linewidth =3)\n",
    "\n",
    "plot_test.title('Price vs Availability (Test set)')\n",
    "plot_test.xlabel('Price')\n",
    "plot_test.ylabel('Availability in a Year')\n",
    "\n",
    "plot_test.show()"
   ]
  },
  {
   "cell_type": "code",
   "execution_count": 46,
   "id": "5720a31b",
   "metadata": {},
   "outputs": [],
   "source": [
    "# Create objects that contain the model summary statistics\n",
    "rmse = mean_squared_error(y_test, y_predicted) # This is the mean squared error\n",
    "r2 = r2_score(y_test, y_predicted) # This is the R2 score "
   ]
  },
  {
   "cell_type": "code",
   "execution_count": 47,
   "id": "c511f31b",
   "metadata": {},
   "outputs": [
    {
     "name": "stdout",
     "output_type": "stream",
     "text": [
      "Slope: [[0.02663048]]\n",
      "Mean squared error:  12684.540171594761\n",
      "R2 score:  0.010451880333079089\n"
     ]
    }
   ],
   "source": [
    "# Print the model summary statistics. This is where you evaluate the performance of the model\n",
    "print('Slope:' ,regression.coef_)\n",
    "print('Mean squared error: ', rmse)\n",
    "print('R2 score: ', r2)"
   ]
  },
  {
   "cell_type": "code",
   "execution_count": 48,
   "id": "ecca2b91",
   "metadata": {},
   "outputs": [
    {
     "data": {
      "text/plain": [
       "array([[82.71622112],\n",
       "       [81.54447988],\n",
       "       [81.46458843],\n",
       "       ...,\n",
       "       [79.17436692],\n",
       "       [79.9732814 ],\n",
       "       [80.90534829]])"
      ]
     },
     "execution_count": 48,
     "metadata": {},
     "output_type": "execute_result"
    }
   ],
   "source": [
    "# Checking data\n",
    "y_predicted"
   ]
  },
  {
   "cell_type": "code",
   "execution_count": 49,
   "id": "0f421240",
   "metadata": {},
   "outputs": [
    {
     "data": {
      "text/html": [
       "<div>\n",
       "<style scoped>\n",
       "    .dataframe tbody tr th:only-of-type {\n",
       "        vertical-align: middle;\n",
       "    }\n",
       "\n",
       "    .dataframe tbody tr th {\n",
       "        vertical-align: top;\n",
       "    }\n",
       "\n",
       "    .dataframe thead th {\n",
       "        text-align: right;\n",
       "    }\n",
       "</style>\n",
       "<table border=\"1\" class=\"dataframe\">\n",
       "  <thead>\n",
       "    <tr style=\"text-align: right;\">\n",
       "      <th></th>\n",
       "      <th>Actual</th>\n",
       "      <th>Predicted</th>\n",
       "    </tr>\n",
       "  </thead>\n",
       "  <tbody>\n",
       "    <tr>\n",
       "      <th>0</th>\n",
       "      <td>0</td>\n",
       "      <td>82.716221</td>\n",
       "    </tr>\n",
       "    <tr>\n",
       "      <th>1</th>\n",
       "      <td>0</td>\n",
       "      <td>81.544480</td>\n",
       "    </tr>\n",
       "    <tr>\n",
       "      <th>2</th>\n",
       "      <td>2</td>\n",
       "      <td>81.464588</td>\n",
       "    </tr>\n",
       "    <tr>\n",
       "      <th>3</th>\n",
       "      <td>35</td>\n",
       "      <td>87.083620</td>\n",
       "    </tr>\n",
       "    <tr>\n",
       "      <th>4</th>\n",
       "      <td>40</td>\n",
       "      <td>78.455344</td>\n",
       "    </tr>\n",
       "    <tr>\n",
       "      <th>5</th>\n",
       "      <td>260</td>\n",
       "      <td>83.701549</td>\n",
       "    </tr>\n",
       "    <tr>\n",
       "      <th>6</th>\n",
       "      <td>0</td>\n",
       "      <td>84.846660</td>\n",
       "    </tr>\n",
       "    <tr>\n",
       "      <th>7</th>\n",
       "      <td>27</td>\n",
       "      <td>82.636330</td>\n",
       "    </tr>\n",
       "    <tr>\n",
       "      <th>8</th>\n",
       "      <td>45</td>\n",
       "      <td>82.316764</td>\n",
       "    </tr>\n",
       "    <tr>\n",
       "      <th>9</th>\n",
       "      <td>254</td>\n",
       "      <td>80.825457</td>\n",
       "    </tr>\n",
       "    <tr>\n",
       "      <th>10</th>\n",
       "      <td>85</td>\n",
       "      <td>79.440672</td>\n",
       "    </tr>\n",
       "    <tr>\n",
       "      <th>11</th>\n",
       "      <td>22</td>\n",
       "      <td>85.192856</td>\n",
       "    </tr>\n",
       "    <tr>\n",
       "      <th>12</th>\n",
       "      <td>16</td>\n",
       "      <td>81.544480</td>\n",
       "    </tr>\n",
       "    <tr>\n",
       "      <th>13</th>\n",
       "      <td>0</td>\n",
       "      <td>88.042318</td>\n",
       "    </tr>\n",
       "    <tr>\n",
       "      <th>14</th>\n",
       "      <td>0</td>\n",
       "      <td>82.050459</td>\n",
       "    </tr>\n",
       "    <tr>\n",
       "      <th>15</th>\n",
       "      <td>0</td>\n",
       "      <td>78.508605</td>\n",
       "    </tr>\n",
       "    <tr>\n",
       "      <th>16</th>\n",
       "      <td>0</td>\n",
       "      <td>80.985240</td>\n",
       "    </tr>\n",
       "    <tr>\n",
       "      <th>17</th>\n",
       "      <td>6</td>\n",
       "      <td>85.432530</td>\n",
       "    </tr>\n",
       "    <tr>\n",
       "      <th>18</th>\n",
       "      <td>0</td>\n",
       "      <td>81.304806</td>\n",
       "    </tr>\n",
       "    <tr>\n",
       "      <th>19</th>\n",
       "      <td>0</td>\n",
       "      <td>80.212956</td>\n",
       "    </tr>\n",
       "    <tr>\n",
       "      <th>20</th>\n",
       "      <td>229</td>\n",
       "      <td>80.878718</td>\n",
       "    </tr>\n",
       "    <tr>\n",
       "      <th>21</th>\n",
       "      <td>4</td>\n",
       "      <td>84.101006</td>\n",
       "    </tr>\n",
       "    <tr>\n",
       "      <th>22</th>\n",
       "      <td>39</td>\n",
       "      <td>83.834701</td>\n",
       "    </tr>\n",
       "    <tr>\n",
       "      <th>23</th>\n",
       "      <td>212</td>\n",
       "      <td>87.190142</td>\n",
       "    </tr>\n",
       "    <tr>\n",
       "      <th>24</th>\n",
       "      <td>277</td>\n",
       "      <td>79.307519</td>\n",
       "    </tr>\n",
       "    <tr>\n",
       "      <th>25</th>\n",
       "      <td>0</td>\n",
       "      <td>82.636330</td>\n",
       "    </tr>\n",
       "    <tr>\n",
       "      <th>26</th>\n",
       "      <td>328</td>\n",
       "      <td>80.852087</td>\n",
       "    </tr>\n",
       "    <tr>\n",
       "      <th>27</th>\n",
       "      <td>0</td>\n",
       "      <td>79.573824</td>\n",
       "    </tr>\n",
       "    <tr>\n",
       "      <th>28</th>\n",
       "      <td>361</td>\n",
       "      <td>94.886352</td>\n",
       "    </tr>\n",
       "    <tr>\n",
       "      <th>29</th>\n",
       "      <td>0</td>\n",
       "      <td>80.212956</td>\n",
       "    </tr>\n",
       "  </tbody>\n",
       "</table>\n",
       "</div>"
      ],
      "text/plain": [
       "    Actual  Predicted\n",
       "0        0  82.716221\n",
       "1        0  81.544480\n",
       "2        2  81.464588\n",
       "3       35  87.083620\n",
       "4       40  78.455344\n",
       "5      260  83.701549\n",
       "6        0  84.846660\n",
       "7       27  82.636330\n",
       "8       45  82.316764\n",
       "9      254  80.825457\n",
       "10      85  79.440672\n",
       "11      22  85.192856\n",
       "12      16  81.544480\n",
       "13       0  88.042318\n",
       "14       0  82.050459\n",
       "15       0  78.508605\n",
       "16       0  80.985240\n",
       "17       6  85.432530\n",
       "18       0  81.304806\n",
       "19       0  80.212956\n",
       "20     229  80.878718\n",
       "21       4  84.101006\n",
       "22      39  83.834701\n",
       "23     212  87.190142\n",
       "24     277  79.307519\n",
       "25       0  82.636330\n",
       "26     328  80.852087\n",
       "27       0  79.573824\n",
       "28     361  94.886352\n",
       "29       0  80.212956"
      ]
     },
     "execution_count": 49,
     "metadata": {},
     "output_type": "execute_result"
    }
   ],
   "source": [
    "# Create a dataframe comparing the actual and predicted values of y\n",
    "data = pd.DataFrame({'Actual': y_test.flatten(), 'Predicted': y_predicted.flatten()})\n",
    "data.head(30)"
   ]
  },
  {
   "cell_type": "markdown",
   "id": "dcad665a",
   "metadata": {},
   "source": [
    "### 6.Compare how the regression fits the training set"
   ]
  },
  {
   "cell_type": "code",
   "execution_count": 50,
   "id": "55c793ee",
   "metadata": {},
   "outputs": [],
   "source": [
    "# Predict\n",
    "y_predicted_train = regression.predict(X_train) # This is predicting X_train!"
   ]
  },
  {
   "cell_type": "code",
   "execution_count": 51,
   "id": "49567ad9",
   "metadata": {},
   "outputs": [],
   "source": [
    "rmse = mean_squared_error(y_train, y_predicted_train)\n",
    "r2 = r2_score(y_train, y_predicted_train)"
   ]
  },
  {
   "cell_type": "code",
   "execution_count": 52,
   "id": "14f0cff3",
   "metadata": {},
   "outputs": [
    {
     "name": "stdout",
     "output_type": "stream",
     "text": [
      "Slope: [[0.02663048]]\n",
      "Mean squared error:  12788.694437257232\n",
      "R2 score:  0.010871400631120465\n"
     ]
    }
   ],
   "source": [
    "print('Slope:' ,regression.coef_)\n",
    "print('Mean squared error: ', rmse)\n",
    "print('R2 score: ', r2)"
   ]
  },
  {
   "cell_type": "code",
   "execution_count": 53,
   "id": "d47d84d0",
   "metadata": {},
   "outputs": [
    {
     "data": {
      "image/png": "[encoded data removed]",
      "text/plain": [
       "<Figure size 640x480 with 1 Axes>"
      ]
     },
     "metadata": {},
     "output_type": "display_data"
    }
   ],
   "source": [
    "# Visualizing the training set results\n",
    "\n",
    "plot_test = plt\n",
    "plot_test.scatter(X_train, y_train, color='#2f79b5', s = 15)\n",
    "plot_test.plot(X_train, y_predicted_train, color='#87beda', linewidth =3)\n",
    "\n",
    "plot_test.title('Price vs Availability (Test set)')\n",
    "plot_test.xlabel('Price')\n",
    "plot_test.ylabel('Availability in a Year')\n",
    "\n",
    "plot_test.show()"
   ]
  },
  {
   "cell_type": "markdown",
   "id": "efbb3c85",
   "metadata": {},
   "source": [
    "Hypothesis: The lower the availability in a year, the higher the accommodation price.\n",
    "\n",
    "The regression line seems to have a positive regression, which means that the higher the price of accommodation, the more days a year the place is available, i.e. it does not bring any profit. However, although the line has a positive slope, it is not very close to the plots, on the contrary, most of the activity occurs outside the line.\n",
    "\n",
    "Looking at\n",
    "Slope: [[0.02663048]]\n",
    "Mean squared error: 12684.540171594761\n",
    "R2 score: 0.010451880333079089\n",
    "\n",
    "Positive slope indicates a positive relationship (as X rises, so does y) it is minimal, so the mutual coefficient is small but positive.\n",
    "\n",
    "The root mean squared error (MSE) shows how close a regression line is to a set of points, in this case the distance is very large and the points are away from the regression line. Therefore, the relationship is not good, on the contrary.\n",
    "\n",
    "From this we conclude that this model did not perform well in the testing phase.\n",
    "The greatest influence has the outliners in the price column, which make a huge difference, but belong to the dataset and reflect the truth of the data."
   ]
  },
  {
   "cell_type": "markdown",
   "id": "2403b76f",
   "metadata": {},
   "source": [
    "### 7. Data preparation II"
   ]
  },
  {
   "cell_type": "code",
   "execution_count": 25,
   "id": "5c22fb29",
   "metadata": {},
   "outputs": [
    {
     "data": {
      "image/png": "[encoded data removed]",
      "text/plain": [
       "<Figure size 640x480 with 1 Axes>"
      ]
     },
     "metadata": {},
     "output_type": "display_data"
    }
   ],
   "source": [
    "# Create a scatterplot using matplotlib for another look at how the chosen variables plot against each other.\n",
    "df.plot(x = 'price', y='number_of_reviews',style='o') \n",
    "\n",
    "plt.title('Price vs Number of reviews', fontsize=16)  \n",
    "plt.xlabel('Price', fontsize=12) \n",
    "plt.ylabel('Number_of_reviews', fontsize=12)  \n",
    "\n",
    "plt.show()"
   ]
  },
  {
   "cell_type": "code",
   "execution_count": 55,
   "id": "ac898774",
   "metadata": {},
   "outputs": [],
   "source": [
    "# Reshape the variables into NumPy arrays and put them into separate objects\n",
    "X1 = df['price'].values.reshape(-1,1)\n",
    "y1 = df['number_of_reviews'].values.reshape(-1,1)"
   ]
  },
  {
   "cell_type": "code",
   "execution_count": 56,
   "id": "38103bd6",
   "metadata": {},
   "outputs": [
    {
     "name": "stdout",
     "output_type": "stream",
     "text": [
      "[[ 61]\n",
      " [327]\n",
      " [109]\n",
      " ...\n",
      " [135]\n",
      " [160]\n",
      " [211]]\n"
     ]
    }
   ],
   "source": [
    "# Output check\n",
    "print(X1)"
   ]
  },
  {
   "cell_type": "code",
   "execution_count": 57,
   "id": "f0ad89fc",
   "metadata": {},
   "outputs": [
    {
     "name": "stdout",
     "output_type": "stream",
     "text": [
      "[[303]\n",
      " [ 78]\n",
      " [341]\n",
      " ...\n",
      " [  0]\n",
      " [  0]\n",
      " [  0]]\n"
     ]
    }
   ],
   "source": [
    "# Output check\n",
    "print(y1)"
   ]
  },
  {
   "cell_type": "code",
   "execution_count": 58,
   "id": "6fb2c9ec",
   "metadata": {},
   "outputs": [],
   "source": [
    "# Split data into a training set and a test set\n",
    "X1_train, X1_test, y1_train, y1_test = train_test_split(X1, y1, test_size=0.3, random_state=0)"
   ]
  },
  {
   "cell_type": "markdown",
   "id": "6b912e57",
   "metadata": {},
   "source": [
    "### 8. Regression analysis II"
   ]
  },
  {
   "cell_type": "code",
   "execution_count": 59,
   "id": "b462d496",
   "metadata": {},
   "outputs": [],
   "source": [
    "# Create a regression object\n",
    "regression = LinearRegression()"
   ]
  },
  {
   "cell_type": "code",
   "execution_count": 60,
   "id": "2f68cfa2",
   "metadata": {},
   "outputs": [
    {
     "data": {
      "text/html": [
       "<style>#sk-container-id-2 {color: black;}#sk-container-id-2 pre{padding: 0;}#sk-container-id-2 div.sk-toggleable {background-color: white;}#sk-container-id-2 label.sk-toggleable__label {cursor: pointer;display: block;width: 100%;margin-bottom: 0;padding: 0.3em;box-sizing: border-box;text-align: center;}#sk-container-id-2 label.sk-toggleable__label-arrow:before {content: \"▸\";float: left;margin-right: 0.25em;color: #696969;}#sk-container-id-2 label.sk-toggleable__label-arrow:hover:before {color: black;}#sk-container-id-2 div.sk-estimator:hover label.sk-toggleable__label-arrow:before {color: black;}#sk-container-id-2 div.sk-toggleable__content {max-height: 0;max-width: 0;overflow: hidden;text-align: left;background-color: #f0f8ff;}#sk-container-id-2 div.sk-toggleable__content pre {margin: 0.2em;color: black;border-radius: 0.25em;background-color: #f0f8ff;}#sk-container-id-2 input.sk-toggleable__control:checked~div.sk-toggleable__content {max-height: 200px;max-width: 100%;overflow: auto;}#sk-container-id-2 input.sk-toggleable__control:checked~label.sk-toggleable__label-arrow:before {content: \"▾\";}#sk-container-id-2 div.sk-estimator input.sk-toggleable__control:checked~label.sk-toggleable__label {background-color: #d4ebff;}#sk-container-id-2 div.sk-label input.sk-toggleable__control:checked~label.sk-toggleable__label {background-color: #d4ebff;}#sk-container-id-2 input.sk-hidden--visually {border: 0;clip: rect(1px 1px 1px 1px);clip: rect(1px, 1px, 1px, 1px);height: 1px;margin: -1px;overflow: hidden;padding: 0;position: absolute;width: 1px;}#sk-container-id-2 div.sk-estimator {font-family: monospace;background-color: #f0f8ff;border: 1px dotted black;border-radius: 0.25em;box-sizing: border-box;margin-bottom: 0.5em;}#sk-container-id-2 div.sk-estimator:hover {background-color: #d4ebff;}#sk-container-id-2 div.sk-parallel-item::after {content: \"\";width: 100%;border-bottom: 1px solid gray;flex-grow: 1;}#sk-container-id-2 div.sk-label:hover label.sk-toggleable__label {background-color: #d4ebff;}#sk-container-id-2 div.sk-serial::before {content: \"\";position: absolute;border-left: 1px solid gray;box-sizing: border-box;top: 0;bottom: 0;left: 50%;z-index: 0;}#sk-container-id-2 div.sk-serial {display: flex;flex-direction: column;align-items: center;background-color: white;padding-right: 0.2em;padding-left: 0.2em;position: relative;}#sk-container-id-2 div.sk-item {position: relative;z-index: 1;}#sk-container-id-2 div.sk-parallel {display: flex;align-items: stretch;justify-content: center;background-color: white;position: relative;}#sk-container-id-2 div.sk-item::before, #sk-container-id-2 div.sk-parallel-item::before {content: \"\";position: absolute;border-left: 1px solid gray;box-sizing: border-box;top: 0;bottom: 0;left: 50%;z-index: -1;}#sk-container-id-2 div.sk-parallel-item {display: flex;flex-direction: column;z-index: 1;position: relative;background-color: white;}#sk-container-id-2 div.sk-parallel-item:first-child::after {align-self: flex-end;width: 50%;}#sk-container-id-2 div.sk-parallel-item:last-child::after {align-self: flex-start;width: 50%;}#sk-container-id-2 div.sk-parallel-item:only-child::after {width: 0;}#sk-container-id-2 div.sk-dashed-wrapped {border: 1px dashed gray;margin: 0 0.4em 0.5em 0.4em;box-sizing: border-box;padding-bottom: 0.4em;background-color: white;}#sk-container-id-2 div.sk-label label {font-family: monospace;font-weight: bold;display: inline-block;line-height: 1.2em;}#sk-container-id-2 div.sk-label-container {text-align: center;}#sk-container-id-2 div.sk-container {/* jupyter's `normalize.less` sets `[hidden] { display: none; }` but bootstrap.min.css set `[hidden] { display: none !important; }` so we also need the `!important` here to be able to override the default hidden behavior on the sphinx rendered scikit-learn.org. See: https://github.com/scikit-learn/scikit-learn/issues/21755 */display: inline-block !important;position: relative;}#sk-container-id-2 div.sk-text-repr-fallback {display: none;}</style><div id=\"sk-container-id-2\" class=\"sk-top-container\"><div class=\"sk-text-repr-fallback\"><pre>LinearRegression()</pre><b>In a Jupyter environment, please rerun this cell to show the HTML representation or trust the notebook. <br />On GitHub, the HTML representation is unable to render, please try loading this page with nbviewer.org.</b></div><div class=\"sk-container\" hidden><div class=\"sk-item\"><div class=\"sk-estimator sk-toggleable\"><input class=\"sk-toggleable__control sk-hidden--visually\" id=\"sk-estimator-id-2\" type=\"checkbox\" checked><label for=\"sk-estimator-id-2\" class=\"sk-toggleable__label sk-toggleable__label-arrow\">LinearRegression</label><div class=\"sk-toggleable__content\"><pre>LinearRegression()</pre></div></div></div></div></div>"
      ],
      "text/plain": [
       "LinearRegression()"
      ]
     },
     "execution_count": 60,
     "metadata": {},
     "output_type": "execute_result"
    }
   ],
   "source": [
    "# Fit the regression object onto the training set\n",
    "regression.fit(X1_train, y1_train)"
   ]
  },
  {
   "cell_type": "code",
   "execution_count": 61,
   "id": "cb84dec8",
   "metadata": {},
   "outputs": [],
   "source": [
    "# Predict the values of y using X.\n",
    "y1_predicted = regression.predict(X1_test)"
   ]
  },
  {
   "cell_type": "code",
   "execution_count": 62,
   "id": "b7fa72c0",
   "metadata": {},
   "outputs": [
    {
     "data": {
      "image/png": "[encoded data removed]",
      "text/plain": [
       "<Figure size 640x480 with 1 Axes>"
      ]
     },
     "metadata": {},
     "output_type": "display_data"
    }
   ],
   "source": [
    "# Create a plot that shows the regression line from the model on the test set\n",
    "plot_test = plt\n",
    "\n",
    "plot_test.scatter(X1_test, y1_test, color='#c13639', s = 15)\n",
    "plot_test.plot(X1_test, y1_predicted, color='#87beda', linewidth =3)\n",
    "\n",
    "plot_test.title('Price vs Number_of_reviews (Test set)')\n",
    "plot_test.xlabel('Price')\n",
    "plot_test.ylabel('Number_of_reviews')\n",
    "\n",
    "plot_test.show()"
   ]
  },
  {
   "cell_type": "code",
   "execution_count": 64,
   "id": "d609da31",
   "metadata": {},
   "outputs": [],
   "source": [
    "# Create objects that contain the model summary statistics\n",
    "rmse = mean_squared_error(y1_test, y1_predicted) # This is the mean squared error\n",
    "r2 = r2_score(y1_test, y1_predicted) # This is the R2 score "
   ]
  },
  {
   "cell_type": "code",
   "execution_count": 65,
   "id": "85698a64",
   "metadata": {},
   "outputs": [
    {
     "name": "stdout",
     "output_type": "stream",
     "text": [
      "Slope: [[-0.01621843]]\n",
      "Mean squared error:  10926.8748680619\n",
      "R2 score:  0.006761821502453524\n"
     ]
    }
   ],
   "source": [
    "# Print the model summary statistics. This is where you evaluate the performance of the model\n",
    "print('Slope:' ,regression.coef_)\n",
    "print('Mean squared error: ', rmse)\n",
    "print('R2 score: ', r2)"
   ]
  },
  {
   "cell_type": "code",
   "execution_count": 66,
   "id": "dcc5d301",
   "metadata": {},
   "outputs": [
    {
     "data": {
      "text/plain": [
       "array([[45.81057239],\n",
       "       [46.52418345],\n",
       "       [46.57283875],\n",
       "       ...,\n",
       "       [47.967624  ],\n",
       "       [47.48107101],\n",
       "       [46.91342585]])"
      ]
     },
     "execution_count": 66,
     "metadata": {},
     "output_type": "execute_result"
    }
   ],
   "source": [
    "# Checking data\n",
    "y1_predicted"
   ]
  },
  {
   "cell_type": "code",
   "execution_count": 67,
   "id": "ed4360a4",
   "metadata": {},
   "outputs": [
    {
     "data": {
      "text/html": [
       "<div>\n",
       "<style scoped>\n",
       "    .dataframe tbody tr th:only-of-type {\n",
       "        vertical-align: middle;\n",
       "    }\n",
       "\n",
       "    .dataframe tbody tr th {\n",
       "        vertical-align: top;\n",
       "    }\n",
       "\n",
       "    .dataframe thead th {\n",
       "        text-align: right;\n",
       "    }\n",
       "</style>\n",
       "<table border=\"1\" class=\"dataframe\">\n",
       "  <thead>\n",
       "    <tr style=\"text-align: right;\">\n",
       "      <th></th>\n",
       "      <th>Actual</th>\n",
       "      <th>Predicted</th>\n",
       "    </tr>\n",
       "  </thead>\n",
       "  <tbody>\n",
       "    <tr>\n",
       "      <th>0</th>\n",
       "      <td>1</td>\n",
       "      <td>45.810572</td>\n",
       "    </tr>\n",
       "    <tr>\n",
       "      <th>1</th>\n",
       "      <td>26</td>\n",
       "      <td>46.524183</td>\n",
       "    </tr>\n",
       "    <tr>\n",
       "      <th>2</th>\n",
       "      <td>3</td>\n",
       "      <td>46.572839</td>\n",
       "    </tr>\n",
       "    <tr>\n",
       "      <th>3</th>\n",
       "      <td>12</td>\n",
       "      <td>43.150749</td>\n",
       "    </tr>\n",
       "    <tr>\n",
       "      <th>4</th>\n",
       "      <td>331</td>\n",
       "      <td>48.405522</td>\n",
       "    </tr>\n",
       "    <tr>\n",
       "      <th>5</th>\n",
       "      <td>0</td>\n",
       "      <td>45.210490</td>\n",
       "    </tr>\n",
       "    <tr>\n",
       "      <th>6</th>\n",
       "      <td>15</td>\n",
       "      <td>44.513098</td>\n",
       "    </tr>\n",
       "    <tr>\n",
       "      <th>7</th>\n",
       "      <td>0</td>\n",
       "      <td>45.859228</td>\n",
       "    </tr>\n",
       "    <tr>\n",
       "      <th>8</th>\n",
       "      <td>2</td>\n",
       "      <td>46.053849</td>\n",
       "    </tr>\n",
       "    <tr>\n",
       "      <th>9</th>\n",
       "      <td>4</td>\n",
       "      <td>46.962081</td>\n",
       "    </tr>\n",
       "    <tr>\n",
       "      <th>10</th>\n",
       "      <td>17</td>\n",
       "      <td>47.805440</td>\n",
       "    </tr>\n",
       "    <tr>\n",
       "      <th>11</th>\n",
       "      <td>138</td>\n",
       "      <td>44.302258</td>\n",
       "    </tr>\n",
       "    <tr>\n",
       "      <th>12</th>\n",
       "      <td>0</td>\n",
       "      <td>46.524183</td>\n",
       "    </tr>\n",
       "    <tr>\n",
       "      <th>13</th>\n",
       "      <td>6</td>\n",
       "      <td>42.566886</td>\n",
       "    </tr>\n",
       "    <tr>\n",
       "      <th>14</th>\n",
       "      <td>20</td>\n",
       "      <td>46.216033</td>\n",
       "    </tr>\n",
       "    <tr>\n",
       "      <th>15</th>\n",
       "      <td>13</td>\n",
       "      <td>48.373085</td>\n",
       "    </tr>\n",
       "    <tr>\n",
       "      <th>16</th>\n",
       "      <td>14</td>\n",
       "      <td>46.864771</td>\n",
       "    </tr>\n",
       "    <tr>\n",
       "      <th>17</th>\n",
       "      <td>1</td>\n",
       "      <td>44.156292</td>\n",
       "    </tr>\n",
       "    <tr>\n",
       "      <th>18</th>\n",
       "      <td>4</td>\n",
       "      <td>46.670149</td>\n",
       "    </tr>\n",
       "    <tr>\n",
       "      <th>19</th>\n",
       "      <td>0</td>\n",
       "      <td>47.335105</td>\n",
       "    </tr>\n",
       "    <tr>\n",
       "      <th>20</th>\n",
       "      <td>209</td>\n",
       "      <td>46.929644</td>\n",
       "    </tr>\n",
       "    <tr>\n",
       "      <th>21</th>\n",
       "      <td>5</td>\n",
       "      <td>44.967214</td>\n",
       "    </tr>\n",
       "    <tr>\n",
       "      <th>22</th>\n",
       "      <td>8</td>\n",
       "      <td>45.129398</td>\n",
       "    </tr>\n",
       "    <tr>\n",
       "      <th>23</th>\n",
       "      <td>42</td>\n",
       "      <td>43.085876</td>\n",
       "    </tr>\n",
       "    <tr>\n",
       "      <th>24</th>\n",
       "      <td>382</td>\n",
       "      <td>47.886532</td>\n",
       "    </tr>\n",
       "    <tr>\n",
       "      <th>25</th>\n",
       "      <td>0</td>\n",
       "      <td>45.859228</td>\n",
       "    </tr>\n",
       "    <tr>\n",
       "      <th>26</th>\n",
       "      <td>12</td>\n",
       "      <td>46.945863</td>\n",
       "    </tr>\n",
       "    <tr>\n",
       "      <th>27</th>\n",
       "      <td>225</td>\n",
       "      <td>47.724348</td>\n",
       "    </tr>\n",
       "    <tr>\n",
       "      <th>28</th>\n",
       "      <td>6</td>\n",
       "      <td>38.398748</td>\n",
       "    </tr>\n",
       "    <tr>\n",
       "      <th>29</th>\n",
       "      <td>37</td>\n",
       "      <td>47.335105</td>\n",
       "    </tr>\n",
       "  </tbody>\n",
       "</table>\n",
       "</div>"
      ],
      "text/plain": [
       "    Actual  Predicted\n",
       "0        1  45.810572\n",
       "1       26  46.524183\n",
       "2        3  46.572839\n",
       "3       12  43.150749\n",
       "4      331  48.405522\n",
       "5        0  45.210490\n",
       "6       15  44.513098\n",
       "7        0  45.859228\n",
       "8        2  46.053849\n",
       "9        4  46.962081\n",
       "10      17  47.805440\n",
       "11     138  44.302258\n",
       "12       0  46.524183\n",
       "13       6  42.566886\n",
       "14      20  46.216033\n",
       "15      13  48.373085\n",
       "16      14  46.864771\n",
       "17       1  44.156292\n",
       "18       4  46.670149\n",
       "19       0  47.335105\n",
       "20     209  46.929644\n",
       "21       5  44.967214\n",
       "22       8  45.129398\n",
       "23      42  43.085876\n",
       "24     382  47.886532\n",
       "25       0  45.859228\n",
       "26      12  46.945863\n",
       "27     225  47.724348\n",
       "28       6  38.398748\n",
       "29      37  47.335105"
      ]
     },
     "execution_count": 67,
     "metadata": {},
     "output_type": "execute_result"
    }
   ],
   "source": [
    "# Create a dataframe comparing the actual and predicted values of y\n",
    "data_1 = pd.DataFrame({'Actual': y1_test.flatten(), 'Predicted': y1_predicted.flatten()})\n",
    "data_1.head(30)"
   ]
  },
  {
   "cell_type": "markdown",
   "id": "4d73a9f8",
   "metadata": {},
   "source": [
    "### 9.Compare how the regression fits the training set II"
   ]
  },
  {
   "cell_type": "code",
   "execution_count": 68,
   "id": "e3f82f83",
   "metadata": {},
   "outputs": [],
   "source": [
    "# Predict\n",
    "y1_predicted_train = regression.predict(X1_train) # This is predicting X_train!"
   ]
  },
  {
   "cell_type": "code",
   "execution_count": 69,
   "id": "788281b4",
   "metadata": {},
   "outputs": [],
   "source": [
    "rmse = mean_squared_error(y1_train, y1_predicted_train)\n",
    "r2 = r2_score(y1_train, y1_predicted_train)"
   ]
  },
  {
   "cell_type": "code",
   "execution_count": 70,
   "id": "6a3b4e7e",
   "metadata": {},
   "outputs": [
    {
     "name": "stdout",
     "output_type": "stream",
     "text": [
      "Slope: [[-0.01621843]]\n",
      "Mean squared error:  11694.769048522108\n",
      "R2 score:  0.0044380816624953745\n"
     ]
    }
   ],
   "source": [
    "print('Slope:' ,regression.coef_)\n",
    "print('Mean squared error: ', rmse)\n",
    "print('R2 score: ', r2)"
   ]
  },
  {
   "cell_type": "code",
   "execution_count": 73,
   "id": "ab286b32",
   "metadata": {},
   "outputs": [
    {
     "data": {
      "image/png": "[encoded data removed]",
      "text/plain": [
       "<Figure size 640x480 with 1 Axes>"
      ]
     },
     "metadata": {},
     "output_type": "display_data"
    }
   ],
   "source": [
    "# Visualizing the training set results\n",
    "\n",
    "plot_test = plt\n",
    "plot_test.scatter(X1_train, y1_train, color='#2f79b5', s = 15)\n",
    "plot_test.plot(X1_train, y1_predicted_train, color='#87beda', linewidth =3)\n",
    "\n",
    "plot_test.title('Price vs Number_of_reviews (Test set)')\n",
    "plot_test.xlabel('Price')\n",
    "plot_test.ylabel('Number_of_reviews')\n",
    "\n",
    "plot_test.show()"
   ]
  },
  {
   "cell_type": "markdown",
   "id": "3c683c59",
   "metadata": {},
   "source": [
    "Hypothesis:The lower rental price affects the number of opinions issued.\n",
    "\n",
    "The regression line in this model is negative, which means that the higher the accommodation price, the fewer opinions left by customers. Again, most of the points are off the line.\n",
    "\n",
    "Slope: [[-0.01621843]]\n",
    "Mean Square Error: 10926.8748680619\n",
    "R2 result: 0.006761821502453524\n",
    "\n",
    "The negative slope means that there is no, or even negative, relationship between the price and the opinions expressed, which means x, i.e. the price increases, and y, i.e. the number of opinions expressed decreases.\n",
    "\n",
    "Also in this case, the root mean square error (MSE) shows a great distance of points from the regression line.\n",
    "\n",
    "From this we conclude that this model did not perform well in the testing phase. The biggest impact comes from the outlines in the price column, which make a huge difference, but are part of the data set and reflect the truth of the data."
   ]
  },
  {
   "cell_type": "code",
   "execution_count": 74,
   "id": "0529f4bb",
   "metadata": {},
   "outputs": [],
   "source": [
    "# saving to csv\n",
    "df.to_csv(os.path.join(path, '02 Data','prepared data', 'data_MLR.csv'))"
   ]
  }
 ],
 "metadata": {
  "kernelspec": {
   "display_name": "Python 3 (ipykernel)",
   "language": "python",
   "name": "python3"
  },
  "language_info": {
   "codemirror_mode": {
    "name": "ipython",
    "version": 3
   },
   "file_extension": ".py",
   "mimetype": "text/x-python",
   "name": "python",
   "nbconvert_exporter": "python",
   "pygments_lexer": "ipython3",
   "version": "3.11.4"
  }
 },
 "nbformat": 4,
 "nbformat_minor": 5
}
