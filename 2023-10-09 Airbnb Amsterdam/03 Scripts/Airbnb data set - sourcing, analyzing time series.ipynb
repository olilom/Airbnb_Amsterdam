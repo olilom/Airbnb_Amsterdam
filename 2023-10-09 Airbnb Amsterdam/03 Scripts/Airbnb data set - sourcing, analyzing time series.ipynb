{
 "cells": [
  {
   "cell_type": "markdown",
   "id": "888ae90f",
   "metadata": {},
   "source": [
    "# Sourcing & Analyzing Time Series Data\n",
    "\n",
    "## This script contains the following:¶\n",
    "#### 1. Importing your libraries and data\n",
    "#### 2. Cleaning, wrangling, subsetting\n",
    "#### 3. Plot the data\n",
    "#### 4. Time series analysis - decomposition\n",
    "#### 5. Testing for stationarity\n",
    "#### 6. Data not stationary - differencing - repeat the Dickey-Fuller test"
   ]
  },
  {
   "cell_type": "markdown",
   "id": "727f774a",
   "metadata": {},
   "source": [
    "#### 1. Importing your libraries and data"
   ]
  },
  {
   "cell_type": "code",
   "execution_count": 1,
   "id": "b26b80fb",
   "metadata": {},
   "outputs": [],
   "source": [
    "import quandl\n",
    "import pandas as pd\n",
    "import numpy as np\n",
    "import seaborn as sns\n",
    "import matplotlib\n",
    "import matplotlib.pyplot as plt\n",
    "import statsmodels.api as sm # Using .api imports the public access version of statsmodels, which is a library that handles \n",
    "# statistical models.\n",
    "import os\n",
    "import warnings # This is a library that handles warnings.\n",
    "\n",
    "warnings.filterwarnings(\"ignore\") \n",
    "\n",
    "plt.style.use('fivethirtyeight') "
   ]
  },
  {
   "cell_type": "code",
   "execution_count": 2,
   "id": "4b0fca00",
   "metadata": {},
   "outputs": [],
   "source": [
    "# Created charts are displayed in the notebook without the need to \"call\" them specifically\n",
    "%matplotlib inline"
   ]
  },
  {
   "cell_type": "code",
   "execution_count": 3,
   "id": "f551f6bd",
   "metadata": {},
   "outputs": [],
   "source": [
    "# Creating a path for faster import and export\n",
    "path=r\"C:\\Users\\olilo\\OneDrive\\Dokumente\\CF\\Data Analytics Immersion_Week 14-15\\2023-10-09 Airbnb Amsterdam\""
   ]
  },
  {
   "cell_type": "code",
   "execution_count": 4,
   "id": "a5d4c407",
   "metadata": {},
   "outputs": [],
   "source": [
    "# Set the color palette to \"RuBu\"\n",
    "sns.set_palette(\"RdBu\")"
   ]
  },
  {
   "cell_type": "code",
   "execution_count": 5,
   "id": "1fcdb9e9",
   "metadata": {},
   "outputs": [],
   "source": [
    "# Import datafarme\n",
    "df = pd.read_csv(os.path.join(path, '02 Data', 'Original Data', 'listings.csv'), index_col = False)"
   ]
  },
  {
   "cell_type": "code",
   "execution_count": 6,
   "id": "63583b41",
   "metadata": {},
   "outputs": [
    {
     "data": {
      "text/plain": [
       "(8386, 18)"
      ]
     },
     "execution_count": 6,
     "metadata": {},
     "output_type": "execute_result"
    }
   ],
   "source": [
    "# Output check\n",
    "df.shape"
   ]
  },
  {
   "cell_type": "code",
   "execution_count": 7,
   "id": "94117984",
   "metadata": {},
   "outputs": [
    {
     "data": {
      "text/html": [
       "<div>\n",
       "<style scoped>\n",
       "    .dataframe tbody tr th:only-of-type {\n",
       "        vertical-align: middle;\n",
       "    }\n",
       "\n",
       "    .dataframe tbody tr th {\n",
       "        vertical-align: top;\n",
       "    }\n",
       "\n",
       "    .dataframe thead th {\n",
       "        text-align: right;\n",
       "    }\n",
       "</style>\n",
       "<table border=\"1\" class=\"dataframe\">\n",
       "  <thead>\n",
       "    <tr style=\"text-align: right;\">\n",
       "      <th></th>\n",
       "      <th>id</th>\n",
       "      <th>name</th>\n",
       "      <th>host_id</th>\n",
       "      <th>host_name</th>\n",
       "      <th>neighbourhood_group</th>\n",
       "      <th>neighbourhood</th>\n",
       "      <th>latitude</th>\n",
       "      <th>longitude</th>\n",
       "      <th>room_type</th>\n",
       "      <th>price</th>\n",
       "      <th>minimum_nights</th>\n",
       "      <th>number_of_reviews</th>\n",
       "      <th>last_review</th>\n",
       "      <th>reviews_per_month</th>\n",
       "      <th>calculated_host_listings_count</th>\n",
       "      <th>availability_365</th>\n",
       "      <th>number_of_reviews_ltm</th>\n",
       "      <th>license</th>\n",
       "    </tr>\n",
       "  </thead>\n",
       "  <tbody>\n",
       "    <tr>\n",
       "      <th>0</th>\n",
       "      <td>761411</td>\n",
       "      <td>Condo in Amsterdam · ★4.74 · 1 bedroom · 1 bed...</td>\n",
       "      <td>4013546</td>\n",
       "      <td>Xsjong</td>\n",
       "      <td>NaN</td>\n",
       "      <td>Noord-Oost</td>\n",
       "      <td>52.40164</td>\n",
       "      <td>4.95106</td>\n",
       "      <td>Private room</td>\n",
       "      <td>61</td>\n",
       "      <td>3</td>\n",
       "      <td>303</td>\n",
       "      <td>2023-08-19</td>\n",
       "      <td>2.30</td>\n",
       "      <td>2</td>\n",
       "      <td>272</td>\n",
       "      <td>26</td>\n",
       "      <td>0363 D4AD DCF3 E72A 56A2</td>\n",
       "    </tr>\n",
       "    <tr>\n",
       "      <th>1</th>\n",
       "      <td>768274</td>\n",
       "      <td>Rental unit in Amsterdam · ★4.83 · 1 bedroom ·...</td>\n",
       "      <td>3678216</td>\n",
       "      <td>J &amp; R</td>\n",
       "      <td>NaN</td>\n",
       "      <td>Westerpark</td>\n",
       "      <td>52.38855</td>\n",
       "      <td>4.88521</td>\n",
       "      <td>Entire home/apt</td>\n",
       "      <td>327</td>\n",
       "      <td>3</td>\n",
       "      <td>78</td>\n",
       "      <td>2023-08-16</td>\n",
       "      <td>0.64</td>\n",
       "      <td>1</td>\n",
       "      <td>16</td>\n",
       "      <td>6</td>\n",
       "      <td>0363 7A50 18E7 51D1 B7F9</td>\n",
       "    </tr>\n",
       "    <tr>\n",
       "      <th>2</th>\n",
       "      <td>768737</td>\n",
       "      <td>Boat in Amsterdam · ★4.82 · 1 bedroom · 1 bed ...</td>\n",
       "      <td>3877342</td>\n",
       "      <td>Nicole</td>\n",
       "      <td>NaN</td>\n",
       "      <td>Westerpark</td>\n",
       "      <td>52.37824</td>\n",
       "      <td>4.86826</td>\n",
       "      <td>Private room</td>\n",
       "      <td>109</td>\n",
       "      <td>2</td>\n",
       "      <td>341</td>\n",
       "      <td>2023-08-24</td>\n",
       "      <td>2.73</td>\n",
       "      <td>3</td>\n",
       "      <td>29</td>\n",
       "      <td>43</td>\n",
       "      <td>036396BE30827DDB9575</td>\n",
       "    </tr>\n",
       "    <tr>\n",
       "      <th>3</th>\n",
       "      <td>771217</td>\n",
       "      <td>Houseboat in Amsterdam · ★5.0 · 3 bedrooms · 3...</td>\n",
       "      <td>4068486</td>\n",
       "      <td>Danielle</td>\n",
       "      <td>NaN</td>\n",
       "      <td>Zuid</td>\n",
       "      <td>52.34091</td>\n",
       "      <td>4.84802</td>\n",
       "      <td>Entire home/apt</td>\n",
       "      <td>290</td>\n",
       "      <td>3</td>\n",
       "      <td>10</td>\n",
       "      <td>2019-01-02</td>\n",
       "      <td>0.11</td>\n",
       "      <td>1</td>\n",
       "      <td>0</td>\n",
       "      <td>0</td>\n",
       "      <td>0363 D807 AD6C 499A F871</td>\n",
       "    </tr>\n",
       "    <tr>\n",
       "      <th>4</th>\n",
       "      <td>771343</td>\n",
       "      <td>Rental unit in Amsterdam · ★4.89 · 1 bedroom ·...</td>\n",
       "      <td>2313061</td>\n",
       "      <td>Marcel</td>\n",
       "      <td>NaN</td>\n",
       "      <td>Centrum-West</td>\n",
       "      <td>52.37641</td>\n",
       "      <td>4.88303</td>\n",
       "      <td>Private room</td>\n",
       "      <td>150</td>\n",
       "      <td>1</td>\n",
       "      <td>699</td>\n",
       "      <td>2023-09-01</td>\n",
       "      <td>6.62</td>\n",
       "      <td>2</td>\n",
       "      <td>196</td>\n",
       "      <td>110</td>\n",
       "      <td>0363 8C61 E9B9 5582 913E</td>\n",
       "    </tr>\n",
       "  </tbody>\n",
       "</table>\n",
       "</div>"
      ],
      "text/plain": [
       "       id                                               name  host_id  \\\n",
       "0  761411  Condo in Amsterdam · ★4.74 · 1 bedroom · 1 bed...  4013546   \n",
       "1  768274  Rental unit in Amsterdam · ★4.83 · 1 bedroom ·...  3678216   \n",
       "2  768737  Boat in Amsterdam · ★4.82 · 1 bedroom · 1 bed ...  3877342   \n",
       "3  771217  Houseboat in Amsterdam · ★5.0 · 3 bedrooms · 3...  4068486   \n",
       "4  771343  Rental unit in Amsterdam · ★4.89 · 1 bedroom ·...  2313061   \n",
       "\n",
       "  host_name  neighbourhood_group neighbourhood  latitude  longitude  \\\n",
       "0    Xsjong                  NaN    Noord-Oost  52.40164    4.95106   \n",
       "1     J & R                  NaN    Westerpark  52.38855    4.88521   \n",
       "2    Nicole                  NaN    Westerpark  52.37824    4.86826   \n",
       "3  Danielle                  NaN          Zuid  52.34091    4.84802   \n",
       "4    Marcel                  NaN  Centrum-West  52.37641    4.88303   \n",
       "\n",
       "         room_type  price  minimum_nights  number_of_reviews last_review  \\\n",
       "0     Private room     61               3                303  2023-08-19   \n",
       "1  Entire home/apt    327               3                 78  2023-08-16   \n",
       "2     Private room    109               2                341  2023-08-24   \n",
       "3  Entire home/apt    290               3                 10  2019-01-02   \n",
       "4     Private room    150               1                699  2023-09-01   \n",
       "\n",
       "   reviews_per_month  calculated_host_listings_count  availability_365  \\\n",
       "0               2.30                               2               272   \n",
       "1               0.64                               1                16   \n",
       "2               2.73                               3                29   \n",
       "3               0.11                               1                 0   \n",
       "4               6.62                               2               196   \n",
       "\n",
       "   number_of_reviews_ltm                   license  \n",
       "0                     26  0363 D4AD DCF3 E72A 56A2  \n",
       "1                      6  0363 7A50 18E7 51D1 B7F9  \n",
       "2                     43      036396BE30827DDB9575  \n",
       "3                      0  0363 D807 AD6C 499A F871  \n",
       "4                    110  0363 8C61 E9B9 5582 913E  "
      ]
     },
     "execution_count": 7,
     "metadata": {},
     "output_type": "execute_result"
    }
   ],
   "source": [
    "df.head()"
   ]
  },
  {
   "cell_type": "markdown",
   "id": "ae474d13",
   "metadata": {},
   "source": [
    "#### 2. Cleaning, wrangling, subsetting"
   ]
  },
  {
   "cell_type": "code",
   "execution_count": 8,
   "id": "adbe2209",
   "metadata": {},
   "outputs": [],
   "source": [
    "# Dataframe listing cleaning\n",
    "df_time = df[['id',\n",
    "       'neighbourhood', 'latitude', 'longitude', 'room_type', 'price',\n",
    "       'minimum_nights', 'number_of_reviews', 'last_review',\n",
    "       'reviews_per_month',\n",
    "       'availability_365', 'number_of_reviews_ltm']]"
   ]
  },
  {
   "cell_type": "code",
   "execution_count": 9,
   "id": "93eb499c",
   "metadata": {},
   "outputs": [],
   "source": [
    "#  Rename some columns in the imported dataframe to make it easier to type out syntax\n",
    "df_time.rename(columns = {'number_of_reviews' : 'Reviews number', 'price':'Price', 'availability_365': 'Availability in days','minimum_nights' : 'Min. Nights', 'reviews_per_month': 'Reviews per Month', 'number_of_reviews_ltm': 'Reviews in 12 Months','room_type': 'Property for rent','neighbourhood':'Neighbourhood', 'last_review':'Last review date'}, inplace = True)"
   ]
  },
  {
   "cell_type": "code",
   "execution_count": 10,
   "id": "2b7bc8d4",
   "metadata": {},
   "outputs": [
    {
     "data": {
      "text/html": [
       "<div>\n",
       "<style scoped>\n",
       "    .dataframe tbody tr th:only-of-type {\n",
       "        vertical-align: middle;\n",
       "    }\n",
       "\n",
       "    .dataframe tbody tr th {\n",
       "        vertical-align: top;\n",
       "    }\n",
       "\n",
       "    .dataframe thead th {\n",
       "        text-align: right;\n",
       "    }\n",
       "</style>\n",
       "<table border=\"1\" class=\"dataframe\">\n",
       "  <thead>\n",
       "    <tr style=\"text-align: right;\">\n",
       "      <th></th>\n",
       "      <th>id</th>\n",
       "      <th>Neighbourhood</th>\n",
       "      <th>latitude</th>\n",
       "      <th>longitude</th>\n",
       "      <th>Property for rent</th>\n",
       "      <th>Price</th>\n",
       "      <th>Min. Nights</th>\n",
       "      <th>Reviews number</th>\n",
       "      <th>Last review date</th>\n",
       "      <th>Reviews per Month</th>\n",
       "      <th>Availability in days</th>\n",
       "      <th>Reviews in 12 Months</th>\n",
       "    </tr>\n",
       "  </thead>\n",
       "  <tbody>\n",
       "    <tr>\n",
       "      <th>0</th>\n",
       "      <td>761411</td>\n",
       "      <td>Noord-Oost</td>\n",
       "      <td>52.40164</td>\n",
       "      <td>4.95106</td>\n",
       "      <td>Private room</td>\n",
       "      <td>61</td>\n",
       "      <td>3</td>\n",
       "      <td>303</td>\n",
       "      <td>2023-08-19</td>\n",
       "      <td>2.30</td>\n",
       "      <td>272</td>\n",
       "      <td>26</td>\n",
       "    </tr>\n",
       "    <tr>\n",
       "      <th>1</th>\n",
       "      <td>768274</td>\n",
       "      <td>Westerpark</td>\n",
       "      <td>52.38855</td>\n",
       "      <td>4.88521</td>\n",
       "      <td>Entire home/apt</td>\n",
       "      <td>327</td>\n",
       "      <td>3</td>\n",
       "      <td>78</td>\n",
       "      <td>2023-08-16</td>\n",
       "      <td>0.64</td>\n",
       "      <td>16</td>\n",
       "      <td>6</td>\n",
       "    </tr>\n",
       "    <tr>\n",
       "      <th>2</th>\n",
       "      <td>768737</td>\n",
       "      <td>Westerpark</td>\n",
       "      <td>52.37824</td>\n",
       "      <td>4.86826</td>\n",
       "      <td>Private room</td>\n",
       "      <td>109</td>\n",
       "      <td>2</td>\n",
       "      <td>341</td>\n",
       "      <td>2023-08-24</td>\n",
       "      <td>2.73</td>\n",
       "      <td>29</td>\n",
       "      <td>43</td>\n",
       "    </tr>\n",
       "    <tr>\n",
       "      <th>3</th>\n",
       "      <td>771217</td>\n",
       "      <td>Zuid</td>\n",
       "      <td>52.34091</td>\n",
       "      <td>4.84802</td>\n",
       "      <td>Entire home/apt</td>\n",
       "      <td>290</td>\n",
       "      <td>3</td>\n",
       "      <td>10</td>\n",
       "      <td>2019-01-02</td>\n",
       "      <td>0.11</td>\n",
       "      <td>0</td>\n",
       "      <td>0</td>\n",
       "    </tr>\n",
       "    <tr>\n",
       "      <th>4</th>\n",
       "      <td>771343</td>\n",
       "      <td>Centrum-West</td>\n",
       "      <td>52.37641</td>\n",
       "      <td>4.88303</td>\n",
       "      <td>Private room</td>\n",
       "      <td>150</td>\n",
       "      <td>1</td>\n",
       "      <td>699</td>\n",
       "      <td>2023-09-01</td>\n",
       "      <td>6.62</td>\n",
       "      <td>196</td>\n",
       "      <td>110</td>\n",
       "    </tr>\n",
       "  </tbody>\n",
       "</table>\n",
       "</div>"
      ],
      "text/plain": [
       "       id Neighbourhood  latitude  longitude Property for rent  Price  \\\n",
       "0  761411    Noord-Oost  52.40164    4.95106      Private room     61   \n",
       "1  768274    Westerpark  52.38855    4.88521   Entire home/apt    327   \n",
       "2  768737    Westerpark  52.37824    4.86826      Private room    109   \n",
       "3  771217          Zuid  52.34091    4.84802   Entire home/apt    290   \n",
       "4  771343  Centrum-West  52.37641    4.88303      Private room    150   \n",
       "\n",
       "   Min. Nights  Reviews number Last review date  Reviews per Month  \\\n",
       "0            3             303       2023-08-19               2.30   \n",
       "1            3              78       2023-08-16               0.64   \n",
       "2            2             341       2023-08-24               2.73   \n",
       "3            3              10       2019-01-02               0.11   \n",
       "4            1             699       2023-09-01               6.62   \n",
       "\n",
       "   Availability in days  Reviews in 12 Months  \n",
       "0                   272                    26  \n",
       "1                    16                     6  \n",
       "2                    29                    43  \n",
       "3                     0                     0  \n",
       "4                   196                   110  "
      ]
     },
     "execution_count": 10,
     "metadata": {},
     "output_type": "execute_result"
    }
   ],
   "source": [
    "df_time.head()"
   ]
  },
  {
   "cell_type": "code",
   "execution_count": 11,
   "id": "a6120dd0",
   "metadata": {},
   "outputs": [
    {
     "data": {
      "text/plain": [
       "id                        0\n",
       "Neighbourhood             0\n",
       "latitude                  0\n",
       "longitude                 0\n",
       "Property for rent         0\n",
       "Price                     0\n",
       "Min. Nights               0\n",
       "Reviews number            0\n",
       "Last review date        830\n",
       "Reviews per Month       830\n",
       "Availability in days      0\n",
       "Reviews in 12 Months      0\n",
       "dtype: int64"
      ]
     },
     "execution_count": 11,
     "metadata": {},
     "output_type": "execute_result"
    }
   ],
   "source": [
    "# Check for missing values\n",
    "df_time.isnull().sum()"
   ]
  },
  {
   "cell_type": "code",
   "execution_count": 12,
   "id": "7d063116",
   "metadata": {},
   "outputs": [],
   "source": [
    "# Drop rows with null values in the 'Reviews per Month' and 'Last review date' columns\n",
    "df_new= df_time.dropna(subset=['Reviews per Month', 'Last review date'])"
   ]
  },
  {
   "cell_type": "code",
   "execution_count": 13,
   "id": "1a2d39c9",
   "metadata": {},
   "outputs": [],
   "source": [
    "# Convert the 'Last review date' column to a datetimelike type\n",
    "df_new['Last review date'] = pd.to_datetime(df_new['Last review date'])\n",
    "\n",
    "# Group the data by the 'Last review date' and count the number of rows in each group\n",
    "df_1 = df_new.groupby(df_new['Last review date'].dt.date)['Last review date'].count()"
   ]
  },
  {
   "cell_type": "code",
   "execution_count": 14,
   "id": "fdf96403",
   "metadata": {},
   "outputs": [
    {
     "data": {
      "text/plain": [
       "0"
      ]
     },
     "execution_count": 14,
     "metadata": {},
     "output_type": "execute_result"
    }
   ],
   "source": [
    "# Output check\n",
    "df_1.isnull().sum()"
   ]
  },
  {
   "cell_type": "code",
   "execution_count": 15,
   "id": "fbc05da8",
   "metadata": {},
   "outputs": [],
   "source": [
    "# Duplicates check\n",
    "dups = df_1.duplicated()"
   ]
  },
  {
   "cell_type": "code",
   "execution_count": 16,
   "id": "c9dd3865",
   "metadata": {},
   "outputs": [
    {
     "data": {
      "text/plain": [
       "(1014,)"
      ]
     },
     "execution_count": 16,
     "metadata": {},
     "output_type": "execute_result"
    }
   ],
   "source": [
    "dups.shape # No dups"
   ]
  },
  {
   "cell_type": "code",
   "execution_count": 17,
   "id": "75e83fc5",
   "metadata": {},
   "outputs": [
    {
     "data": {
      "text/plain": [
       "Last review date\n",
       "2013-08-19    1\n",
       "2014-01-04    1\n",
       "2015-01-03    1\n",
       "2015-02-08    1\n",
       "2015-07-08    1\n",
       "Name: Last review date, dtype: int64"
      ]
     },
     "execution_count": 17,
     "metadata": {},
     "output_type": "execute_result"
    }
   ],
   "source": [
    "df_1.head()"
   ]
  },
  {
   "cell_type": "markdown",
   "id": "37d6a87d",
   "metadata": {},
   "source": [
    "#### 3. Plot the data"
   ]
  },
  {
   "cell_type": "code",
   "execution_count": 18,
   "id": "54164fef",
   "metadata": {},
   "outputs": [],
   "source": [
    "#avg duration trip on day\n",
    "avg = df_new.groupby('Last review date')['Reviews per Month'].mean()"
   ]
  },
  {
   "cell_type": "code",
   "execution_count": 19,
   "id": "2e6f0772",
   "metadata": {},
   "outputs": [],
   "source": [
    "result = pd.DataFrame({'date': df_1.index, 'reviews_count': df_1.values, 'avg_reviews': avg.values})"
   ]
  },
  {
   "cell_type": "code",
   "execution_count": 20,
   "id": "88114ad9",
   "metadata": {},
   "outputs": [
    {
     "name": "stdout",
     "output_type": "stream",
     "text": [
      "<class 'pandas.core.frame.DataFrame'>\n",
      "RangeIndex: 1014 entries, 0 to 1013\n",
      "Data columns (total 3 columns):\n",
      " #   Column         Non-Null Count  Dtype  \n",
      "---  ------         --------------  -----  \n",
      " 0   date           1014 non-null   object \n",
      " 1   reviews_count  1014 non-null   int64  \n",
      " 2   avg_reviews    1014 non-null   float64\n",
      "dtypes: float64(1), int64(1), object(1)\n",
      "memory usage: 23.9+ KB\n"
     ]
    }
   ],
   "source": [
    "result.info()"
   ]
  },
  {
   "cell_type": "code",
   "execution_count": 21,
   "id": "28d76978",
   "metadata": {},
   "outputs": [
    {
     "data": {
      "text/html": [
       "<div>\n",
       "<style scoped>\n",
       "    .dataframe tbody tr th:only-of-type {\n",
       "        vertical-align: middle;\n",
       "    }\n",
       "\n",
       "    .dataframe tbody tr th {\n",
       "        vertical-align: top;\n",
       "    }\n",
       "\n",
       "    .dataframe thead th {\n",
       "        text-align: right;\n",
       "    }\n",
       "</style>\n",
       "<table border=\"1\" class=\"dataframe\">\n",
       "  <thead>\n",
       "    <tr style=\"text-align: right;\">\n",
       "      <th></th>\n",
       "      <th>reviews_count</th>\n",
       "      <th>avg_reviews</th>\n",
       "    </tr>\n",
       "    <tr>\n",
       "      <th>datetime</th>\n",
       "      <th></th>\n",
       "      <th></th>\n",
       "    </tr>\n",
       "  </thead>\n",
       "  <tbody>\n",
       "    <tr>\n",
       "      <th>2013-08-19</th>\n",
       "      <td>1</td>\n",
       "      <td>0.10</td>\n",
       "    </tr>\n",
       "    <tr>\n",
       "      <th>2014-01-04</th>\n",
       "      <td>1</td>\n",
       "      <td>0.02</td>\n",
       "    </tr>\n",
       "    <tr>\n",
       "      <th>2015-01-03</th>\n",
       "      <td>1</td>\n",
       "      <td>0.01</td>\n",
       "    </tr>\n",
       "    <tr>\n",
       "      <th>2015-02-08</th>\n",
       "      <td>1</td>\n",
       "      <td>0.01</td>\n",
       "    </tr>\n",
       "    <tr>\n",
       "      <th>2015-07-08</th>\n",
       "      <td>1</td>\n",
       "      <td>0.09</td>\n",
       "    </tr>\n",
       "  </tbody>\n",
       "</table>\n",
       "</div>"
      ],
      "text/plain": [
       "            reviews_count  avg_reviews\n",
       "datetime                              \n",
       "2013-08-19              1         0.10\n",
       "2014-01-04              1         0.02\n",
       "2015-01-03              1         0.01\n",
       "2015-02-08              1         0.01\n",
       "2015-07-08              1         0.09"
      ]
     },
     "execution_count": 21,
     "metadata": {},
     "output_type": "execute_result"
    }
   ],
   "source": [
    "# Set the \"Date\" column as the index\n",
    "\n",
    "from datetime import datetime\n",
    "\n",
    "result['datetime'] = pd.to_datetime(result['date']) # Create a datetime column from \"Date.\"\"\n",
    "result = result.set_index('datetime') # Set the datetime as the index of the dataframe.\n",
    "result.drop(['date'], axis=1, inplace=True) # Drop the \"Date\" column.\n",
    "result.head()"
   ]
  },
  {
   "cell_type": "code",
   "execution_count": 22,
   "id": "c902919a",
   "metadata": {},
   "outputs": [
    {
     "data": {
      "text/html": [
       "<div>\n",
       "<style scoped>\n",
       "    .dataframe tbody tr th:only-of-type {\n",
       "        vertical-align: middle;\n",
       "    }\n",
       "\n",
       "    .dataframe tbody tr th {\n",
       "        vertical-align: top;\n",
       "    }\n",
       "\n",
       "    .dataframe thead th {\n",
       "        text-align: right;\n",
       "    }\n",
       "</style>\n",
       "<table border=\"1\" class=\"dataframe\">\n",
       "  <thead>\n",
       "    <tr style=\"text-align: right;\">\n",
       "      <th></th>\n",
       "      <th>datetime</th>\n",
       "      <th>reviews_count</th>\n",
       "      <th>avg_reviews</th>\n",
       "    </tr>\n",
       "  </thead>\n",
       "  <tbody>\n",
       "    <tr>\n",
       "      <th>0</th>\n",
       "      <td>2013-08-19</td>\n",
       "      <td>1</td>\n",
       "      <td>0.10</td>\n",
       "    </tr>\n",
       "    <tr>\n",
       "      <th>1</th>\n",
       "      <td>2014-01-04</td>\n",
       "      <td>1</td>\n",
       "      <td>0.02</td>\n",
       "    </tr>\n",
       "    <tr>\n",
       "      <th>2</th>\n",
       "      <td>2015-01-03</td>\n",
       "      <td>1</td>\n",
       "      <td>0.01</td>\n",
       "    </tr>\n",
       "    <tr>\n",
       "      <th>3</th>\n",
       "      <td>2015-02-08</td>\n",
       "      <td>1</td>\n",
       "      <td>0.01</td>\n",
       "    </tr>\n",
       "    <tr>\n",
       "      <th>4</th>\n",
       "      <td>2015-07-08</td>\n",
       "      <td>1</td>\n",
       "      <td>0.09</td>\n",
       "    </tr>\n",
       "  </tbody>\n",
       "</table>\n",
       "</div>"
      ],
      "text/plain": [
       "    datetime  reviews_count  avg_reviews\n",
       "0 2013-08-19              1         0.10\n",
       "1 2014-01-04              1         0.02\n",
       "2 2015-01-03              1         0.01\n",
       "3 2015-02-08              1         0.01\n",
       "4 2015-07-08              1         0.09"
      ]
     },
     "execution_count": 22,
     "metadata": {},
     "output_type": "execute_result"
    }
   ],
   "source": [
    "# Reset index so that you can use the \"Date\" column as a filter\n",
    "result_2 = result.reset_index()\n",
    "#Output\n",
    "result_2.head()"
   ]
  },
  {
   "cell_type": "code",
   "execution_count": 23,
   "id": "66361b89",
   "metadata": {},
   "outputs": [
    {
     "data": {
      "text/html": [
       "<div>\n",
       "<style scoped>\n",
       "    .dataframe tbody tr th:only-of-type {\n",
       "        vertical-align: middle;\n",
       "    }\n",
       "\n",
       "    .dataframe tbody tr th {\n",
       "        vertical-align: top;\n",
       "    }\n",
       "\n",
       "    .dataframe thead th {\n",
       "        text-align: right;\n",
       "    }\n",
       "</style>\n",
       "<table border=\"1\" class=\"dataframe\">\n",
       "  <thead>\n",
       "    <tr style=\"text-align: right;\">\n",
       "      <th></th>\n",
       "      <th>datetime</th>\n",
       "      <th>reviews_count</th>\n",
       "    </tr>\n",
       "  </thead>\n",
       "  <tbody>\n",
       "    <tr>\n",
       "      <th>0</th>\n",
       "      <td>2013-08-19</td>\n",
       "      <td>1</td>\n",
       "    </tr>\n",
       "    <tr>\n",
       "      <th>1</th>\n",
       "      <td>2014-01-04</td>\n",
       "      <td>1</td>\n",
       "    </tr>\n",
       "    <tr>\n",
       "      <th>2</th>\n",
       "      <td>2015-01-03</td>\n",
       "      <td>1</td>\n",
       "    </tr>\n",
       "    <tr>\n",
       "      <th>3</th>\n",
       "      <td>2015-02-08</td>\n",
       "      <td>1</td>\n",
       "    </tr>\n",
       "    <tr>\n",
       "      <th>4</th>\n",
       "      <td>2015-07-08</td>\n",
       "      <td>1</td>\n",
       "    </tr>\n",
       "  </tbody>\n",
       "</table>\n",
       "</div>"
      ],
      "text/plain": [
       "    datetime  reviews_count\n",
       "0 2013-08-19              1\n",
       "1 2014-01-04              1\n",
       "2 2015-01-03              1\n",
       "3 2015-02-08              1\n",
       "4 2015-07-08              1"
      ]
     },
     "execution_count": 23,
     "metadata": {},
     "output_type": "execute_result"
    }
   ],
   "source": [
    "result_3 = result_2[['datetime','reviews_count']]\n",
    "#Output\n",
    "result_3.head()"
   ]
  },
  {
   "cell_type": "code",
   "execution_count": 24,
   "id": "e952fc8a",
   "metadata": {},
   "outputs": [
    {
     "data": {
      "text/html": [
       "<div>\n",
       "<style scoped>\n",
       "    .dataframe tbody tr th:only-of-type {\n",
       "        vertical-align: middle;\n",
       "    }\n",
       "\n",
       "    .dataframe tbody tr th {\n",
       "        vertical-align: top;\n",
       "    }\n",
       "\n",
       "    .dataframe thead th {\n",
       "        text-align: right;\n",
       "    }\n",
       "</style>\n",
       "<table border=\"1\" class=\"dataframe\">\n",
       "  <thead>\n",
       "    <tr style=\"text-align: right;\">\n",
       "      <th></th>\n",
       "      <th>datetime</th>\n",
       "      <th>reviews_count</th>\n",
       "      <th>avg_reviews</th>\n",
       "    </tr>\n",
       "  </thead>\n",
       "  <tbody>\n",
       "    <tr>\n",
       "      <th>0</th>\n",
       "      <td>2013-08-19</td>\n",
       "      <td>1</td>\n",
       "      <td>0.10</td>\n",
       "    </tr>\n",
       "    <tr>\n",
       "      <th>1</th>\n",
       "      <td>2014-01-04</td>\n",
       "      <td>1</td>\n",
       "      <td>0.02</td>\n",
       "    </tr>\n",
       "    <tr>\n",
       "      <th>2</th>\n",
       "      <td>2015-01-03</td>\n",
       "      <td>1</td>\n",
       "      <td>0.01</td>\n",
       "    </tr>\n",
       "    <tr>\n",
       "      <th>3</th>\n",
       "      <td>2015-02-08</td>\n",
       "      <td>1</td>\n",
       "      <td>0.01</td>\n",
       "    </tr>\n",
       "    <tr>\n",
       "      <th>4</th>\n",
       "      <td>2015-07-08</td>\n",
       "      <td>1</td>\n",
       "      <td>0.09</td>\n",
       "    </tr>\n",
       "  </tbody>\n",
       "</table>\n",
       "</div>"
      ],
      "text/plain": [
       "    datetime  reviews_count  avg_reviews\n",
       "0 2013-08-19              1         0.10\n",
       "1 2014-01-04              1         0.02\n",
       "2 2015-01-03              1         0.01\n",
       "3 2015-02-08              1         0.01\n",
       "4 2015-07-08              1         0.09"
      ]
     },
     "execution_count": 24,
     "metadata": {},
     "output_type": "execute_result"
    }
   ],
   "source": [
    "# Reset index so that you can use the \"Date\" column as a filter\n",
    "result_3 = result.reset_index()\n",
    "#Output\n",
    "result_3.head()"
   ]
  },
  {
   "cell_type": "code",
   "execution_count": 25,
   "id": "32081f65",
   "metadata": {},
   "outputs": [
    {
     "data": {
      "text/plain": [
       "[<matplotlib.lines.Line2D at 0x2db7021c790>]"
      ]
     },
     "execution_count": 25,
     "metadata": {},
     "output_type": "execute_result"
    },
    {
     "data": {
      "image/png": "[encoded data removed]",
      "text/plain": [
       "<Figure size 1500x500 with 1 Axes>"
      ]
     },
     "metadata": {},
     "output_type": "display_data"
    }
   ],
   "source": [
    "# Plot the new data set\n",
    "plt.figure(figsize=(15,5), dpi=100)\n",
    "plt.plot(df_1)"
   ]
  },
  {
   "cell_type": "code",
   "execution_count": 26,
   "id": "c5b2f64e",
   "metadata": {},
   "outputs": [
    {
     "data": {
      "text/plain": [
       "Last review date\n",
       "2013-08-19      1\n",
       "2014-01-04      1\n",
       "2015-01-03      1\n",
       "2015-02-08      1\n",
       "2015-07-08      1\n",
       "             ... \n",
       "2023-08-30    141\n",
       "2023-08-31    118\n",
       "2023-09-01    102\n",
       "2023-09-02     68\n",
       "2023-09-03     85\n",
       "Name: Last review date, Length: 1014, dtype: int64"
      ]
     },
     "execution_count": 26,
     "metadata": {},
     "output_type": "execute_result"
    }
   ],
   "source": [
    "#Output print\n",
    "df_1"
   ]
  },
  {
   "cell_type": "markdown",
   "id": "22b90fdf",
   "metadata": {},
   "source": [
    "#### 4. Time series analysis - decomposition"
   ]
  },
  {
   "cell_type": "code",
   "execution_count": 27,
   "id": "7836bd3d",
   "metadata": {},
   "outputs": [
    {
     "data": {
      "text/html": [
       "<div>\n",
       "<style scoped>\n",
       "    .dataframe tbody tr th:only-of-type {\n",
       "        vertical-align: middle;\n",
       "    }\n",
       "\n",
       "    .dataframe tbody tr th {\n",
       "        vertical-align: top;\n",
       "    }\n",
       "\n",
       "    .dataframe thead th {\n",
       "        text-align: right;\n",
       "    }\n",
       "</style>\n",
       "<table border=\"1\" class=\"dataframe\">\n",
       "  <thead>\n",
       "    <tr style=\"text-align: right;\">\n",
       "      <th></th>\n",
       "      <th>reviews_count</th>\n",
       "      <th>avg_reviews</th>\n",
       "    </tr>\n",
       "    <tr>\n",
       "      <th>datetime</th>\n",
       "      <th></th>\n",
       "      <th></th>\n",
       "    </tr>\n",
       "  </thead>\n",
       "  <tbody>\n",
       "    <tr>\n",
       "      <th>2013-08-19</th>\n",
       "      <td>1</td>\n",
       "      <td>0.100000</td>\n",
       "    </tr>\n",
       "    <tr>\n",
       "      <th>2014-01-04</th>\n",
       "      <td>1</td>\n",
       "      <td>0.020000</td>\n",
       "    </tr>\n",
       "    <tr>\n",
       "      <th>2015-01-03</th>\n",
       "      <td>1</td>\n",
       "      <td>0.010000</td>\n",
       "    </tr>\n",
       "    <tr>\n",
       "      <th>2015-02-08</th>\n",
       "      <td>1</td>\n",
       "      <td>0.010000</td>\n",
       "    </tr>\n",
       "    <tr>\n",
       "      <th>2015-07-08</th>\n",
       "      <td>1</td>\n",
       "      <td>0.090000</td>\n",
       "    </tr>\n",
       "    <tr>\n",
       "      <th>...</th>\n",
       "      <td>...</td>\n",
       "      <td>...</td>\n",
       "    </tr>\n",
       "    <tr>\n",
       "      <th>2023-08-30</th>\n",
       "      <td>141</td>\n",
       "      <td>2.717872</td>\n",
       "    </tr>\n",
       "    <tr>\n",
       "      <th>2023-08-31</th>\n",
       "      <td>118</td>\n",
       "      <td>3.449407</td>\n",
       "    </tr>\n",
       "    <tr>\n",
       "      <th>2023-09-01</th>\n",
       "      <td>102</td>\n",
       "      <td>3.643333</td>\n",
       "    </tr>\n",
       "    <tr>\n",
       "      <th>2023-09-02</th>\n",
       "      <td>68</td>\n",
       "      <td>3.479706</td>\n",
       "    </tr>\n",
       "    <tr>\n",
       "      <th>2023-09-03</th>\n",
       "      <td>85</td>\n",
       "      <td>5.096824</td>\n",
       "    </tr>\n",
       "  </tbody>\n",
       "</table>\n",
       "<p>1014 rows × 2 columns</p>\n",
       "</div>"
      ],
      "text/plain": [
       "            reviews_count  avg_reviews\n",
       "datetime                              \n",
       "2013-08-19              1     0.100000\n",
       "2014-01-04              1     0.020000\n",
       "2015-01-03              1     0.010000\n",
       "2015-02-08              1     0.010000\n",
       "2015-07-08              1     0.090000\n",
       "...                   ...          ...\n",
       "2023-08-30            141     2.717872\n",
       "2023-08-31            118     3.449407\n",
       "2023-09-01            102     3.643333\n",
       "2023-09-02             68     3.479706\n",
       "2023-09-03             85     5.096824\n",
       "\n",
       "[1014 rows x 2 columns]"
      ]
     },
     "execution_count": 27,
     "metadata": {},
     "output_type": "execute_result"
    }
   ],
   "source": [
    "# Control\n",
    "result"
   ]
  },
  {
   "cell_type": "code",
   "execution_count": 28,
   "id": "96e7a4e0",
   "metadata": {},
   "outputs": [],
   "source": [
    "# Drop the avg column\n",
    "column_to_drop = 'avg_reviews'"
   ]
  },
  {
   "cell_type": "code",
   "execution_count": 29,
   "id": "d5a81215",
   "metadata": {},
   "outputs": [
    {
     "data": {
      "text/html": [
       "<div>\n",
       "<style scoped>\n",
       "    .dataframe tbody tr th:only-of-type {\n",
       "        vertical-align: middle;\n",
       "    }\n",
       "\n",
       "    .dataframe tbody tr th {\n",
       "        vertical-align: top;\n",
       "    }\n",
       "\n",
       "    .dataframe thead th {\n",
       "        text-align: right;\n",
       "    }\n",
       "</style>\n",
       "<table border=\"1\" class=\"dataframe\">\n",
       "  <thead>\n",
       "    <tr style=\"text-align: right;\">\n",
       "      <th></th>\n",
       "      <th>reviews_count</th>\n",
       "    </tr>\n",
       "    <tr>\n",
       "      <th>datetime</th>\n",
       "      <th></th>\n",
       "    </tr>\n",
       "  </thead>\n",
       "  <tbody>\n",
       "    <tr>\n",
       "      <th>2013-08-19</th>\n",
       "      <td>1</td>\n",
       "    </tr>\n",
       "    <tr>\n",
       "      <th>2014-01-04</th>\n",
       "      <td>1</td>\n",
       "    </tr>\n",
       "    <tr>\n",
       "      <th>2015-01-03</th>\n",
       "      <td>1</td>\n",
       "    </tr>\n",
       "    <tr>\n",
       "      <th>2015-02-08</th>\n",
       "      <td>1</td>\n",
       "    </tr>\n",
       "    <tr>\n",
       "      <th>2015-07-08</th>\n",
       "      <td>1</td>\n",
       "    </tr>\n",
       "    <tr>\n",
       "      <th>...</th>\n",
       "      <td>...</td>\n",
       "    </tr>\n",
       "    <tr>\n",
       "      <th>2023-08-30</th>\n",
       "      <td>141</td>\n",
       "    </tr>\n",
       "    <tr>\n",
       "      <th>2023-08-31</th>\n",
       "      <td>118</td>\n",
       "    </tr>\n",
       "    <tr>\n",
       "      <th>2023-09-01</th>\n",
       "      <td>102</td>\n",
       "    </tr>\n",
       "    <tr>\n",
       "      <th>2023-09-02</th>\n",
       "      <td>68</td>\n",
       "    </tr>\n",
       "    <tr>\n",
       "      <th>2023-09-03</th>\n",
       "      <td>85</td>\n",
       "    </tr>\n",
       "  </tbody>\n",
       "</table>\n",
       "<p>1014 rows × 1 columns</p>\n",
       "</div>"
      ],
      "text/plain": [
       "            reviews_count\n",
       "datetime                 \n",
       "2013-08-19              1\n",
       "2014-01-04              1\n",
       "2015-01-03              1\n",
       "2015-02-08              1\n",
       "2015-07-08              1\n",
       "...                   ...\n",
       "2023-08-30            141\n",
       "2023-08-31            118\n",
       "2023-09-01            102\n",
       "2023-09-02             68\n",
       "2023-09-03             85\n",
       "\n",
       "[1014 rows x 1 columns]"
      ]
     },
     "execution_count": 29,
     "metadata": {},
     "output_type": "execute_result"
    }
   ],
   "source": [
    "result = result.drop(column_to_drop, axis=1)\n",
    "# Output check\n",
    "result"
   ]
  },
  {
   "cell_type": "code",
   "execution_count": 30,
   "id": "2e879d04",
   "metadata": {},
   "outputs": [
    {
     "name": "stdout",
     "output_type": "stream",
     "text": [
      "       datetime  reviews_count\n",
      "0    2013-08-19              1\n",
      "1    2014-01-04              1\n",
      "2    2015-01-03              1\n",
      "3    2015-02-08              1\n",
      "4    2015-07-08              1\n",
      "...         ...            ...\n",
      "1009 2023-08-30            141\n",
      "1010 2023-08-31            118\n",
      "1011 2023-09-01            102\n",
      "1012 2023-09-02             68\n",
      "1013 2023-09-03             85\n",
      "\n",
      "[1014 rows x 2 columns]\n"
     ]
    }
   ],
   "source": [
    "# Reset index so that you can use the \"Date\" column as a filter\n",
    "result_1 = result.reset_index()\n",
    "# Print\n",
    "print(result_1)"
   ]
  },
  {
   "cell_type": "code",
   "execution_count": 32,
   "id": "e9992118",
   "metadata": {},
   "outputs": [],
   "source": [
    "time_series = result_1['datetime']"
   ]
  },
  {
   "cell_type": "code",
   "execution_count": 33,
   "id": "f4476f9d",
   "metadata": {},
   "outputs": [],
   "source": [
    "# Convert the 'datetime' column to datetime values\n",
    "result_1['datetime'] = pd.to_datetime(result_1['datetime'])"
   ]
  },
  {
   "cell_type": "code",
   "execution_count": 34,
   "id": "037113a5",
   "metadata": {},
   "outputs": [],
   "source": [
    "result_1.set_index('datetime', inplace=True)"
   ]
  },
  {
   "cell_type": "code",
   "execution_count": 38,
   "id": "c0545046",
   "metadata": {},
   "outputs": [],
   "source": [
    "time_series = result_1['reviews_count']"
   ]
  },
  {
   "cell_type": "code",
   "execution_count": 41,
   "id": "6cb34f94",
   "metadata": {},
   "outputs": [],
   "source": [
    "# Decompose the time series using an additive model\n",
    "decomposition = sm.tsa.seasonal_decompose(time_series, model='additive', period=12)"
   ]
  },
  {
   "cell_type": "code",
   "execution_count": 42,
   "id": "2a600ef0",
   "metadata": {},
   "outputs": [],
   "source": [
    "trend = decomposition.trend\n",
    "seasonal = decomposition.seasonal\n",
    "residual = decomposition.resid"
   ]
  },
  {
   "cell_type": "code",
   "execution_count": 44,
   "id": "26232f00",
   "metadata": {},
   "outputs": [],
   "source": [
    "from pylab import rcParams # This will define a fixed size for all special charts.\n",
    "\n",
    "rcParams['figure.figsize'] = 18, 7"
   ]
  },
  {
   "cell_type": "code",
   "execution_count": 45,
   "id": "14c83c3f",
   "metadata": {},
   "outputs": [
    {
     "data": {
      "image/png": "[encoded data removed]",
      "text/plain": [
       "<Figure size 1800x700 with 4 Axes>"
      ]
     },
     "metadata": {},
     "output_type": "display_data"
    }
   ],
   "source": [
    "# Plot the separate components\n",
    "decomposition.plot()\n",
    "plt.show()"
   ]
  },
  {
   "cell_type": "code",
   "execution_count": 46,
   "id": "00e8acd5",
   "metadata": {},
   "outputs": [
    {
     "data": {
      "text/html": [
       "<div>\n",
       "<style scoped>\n",
       "    .dataframe tbody tr th:only-of-type {\n",
       "        vertical-align: middle;\n",
       "    }\n",
       "\n",
       "    .dataframe tbody tr th {\n",
       "        vertical-align: top;\n",
       "    }\n",
       "\n",
       "    .dataframe thead th {\n",
       "        text-align: right;\n",
       "    }\n",
       "</style>\n",
       "<table border=\"1\" class=\"dataframe\">\n",
       "  <thead>\n",
       "    <tr style=\"text-align: right;\">\n",
       "      <th></th>\n",
       "      <th>reviews_count</th>\n",
       "    </tr>\n",
       "    <tr>\n",
       "      <th>datetime</th>\n",
       "      <th></th>\n",
       "    </tr>\n",
       "  </thead>\n",
       "  <tbody>\n",
       "    <tr>\n",
       "      <th>2013-08-19</th>\n",
       "      <td>1</td>\n",
       "    </tr>\n",
       "    <tr>\n",
       "      <th>2014-01-04</th>\n",
       "      <td>1</td>\n",
       "    </tr>\n",
       "    <tr>\n",
       "      <th>2015-01-03</th>\n",
       "      <td>1</td>\n",
       "    </tr>\n",
       "    <tr>\n",
       "      <th>2015-02-08</th>\n",
       "      <td>1</td>\n",
       "    </tr>\n",
       "    <tr>\n",
       "      <th>2015-07-08</th>\n",
       "      <td>1</td>\n",
       "    </tr>\n",
       "    <tr>\n",
       "      <th>...</th>\n",
       "      <td>...</td>\n",
       "    </tr>\n",
       "    <tr>\n",
       "      <th>2023-08-30</th>\n",
       "      <td>141</td>\n",
       "    </tr>\n",
       "    <tr>\n",
       "      <th>2023-08-31</th>\n",
       "      <td>118</td>\n",
       "    </tr>\n",
       "    <tr>\n",
       "      <th>2023-09-01</th>\n",
       "      <td>102</td>\n",
       "    </tr>\n",
       "    <tr>\n",
       "      <th>2023-09-02</th>\n",
       "      <td>68</td>\n",
       "    </tr>\n",
       "    <tr>\n",
       "      <th>2023-09-03</th>\n",
       "      <td>85</td>\n",
       "    </tr>\n",
       "  </tbody>\n",
       "</table>\n",
       "<p>1014 rows × 1 columns</p>\n",
       "</div>"
      ],
      "text/plain": [
       "            reviews_count\n",
       "datetime                 \n",
       "2013-08-19              1\n",
       "2014-01-04              1\n",
       "2015-01-03              1\n",
       "2015-02-08              1\n",
       "2015-07-08              1\n",
       "...                   ...\n",
       "2023-08-30            141\n",
       "2023-08-31            118\n",
       "2023-09-01            102\n",
       "2023-09-02             68\n",
       "2023-09-03             85\n",
       "\n",
       "[1014 rows x 1 columns]"
      ]
     },
     "execution_count": 46,
     "metadata": {},
     "output_type": "execute_result"
    }
   ],
   "source": [
    "# Output check\n",
    "result_1"
   ]
  },
  {
   "cell_type": "markdown",
   "id": "83dbcb12",
   "metadata": {},
   "source": [
    "##### Observations\n",
    "* trend: long stabel, line trend than from 2023 we have a positive trend growth\n",
    "* seasonality: no apparent seasonality\n",
    "* noise: noise rist from 2023 to see"
   ]
  },
  {
   "cell_type": "markdown",
   "id": "02556fbf",
   "metadata": {},
   "source": [
    "#### 5. Testing for stationarity"
   ]
  },
  {
   "cell_type": "code",
   "execution_count": 48,
   "id": "8cfd7993",
   "metadata": {
    "scrolled": true
   },
   "outputs": [
    {
     "name": "stdout",
     "output_type": "stream",
     "text": [
      "Dickey-Fuller Stationarity test:\n",
      "Test Statistic                   9.753136\n",
      "p-value                          1.000000\n",
      "Number of Lags Used             21.000000\n",
      "Number of Observations Used    992.000000\n",
      "Critical Value (1%)             -3.436959\n",
      "Critical Value (5%)             -2.864458\n",
      "Critical Value (10%)            -2.568324\n",
      "dtype: float64\n"
     ]
    }
   ],
   "source": [
    "# The adfuller() function will import from the model from statsmodels for the test; however, running it will only return \n",
    "# an array of numbers. This is why you need to also define a function that prints the correct output from that array.\n",
    "\n",
    "from statsmodels.tsa.stattools import adfuller # Import the adfuller() function\n",
    "\n",
    "def dickey_fuller(timeseries): # Define the function\n",
    "    # Perform the Dickey-Fuller test:\n",
    "    print ('Dickey-Fuller Stationarity test:')\n",
    "    test = adfuller(timeseries, autolag='AIC')\n",
    "    result = pd.Series(test[0:4], index=['Test Statistic','p-value','Number of Lags Used','Number of Observations Used'])\n",
    "    for key,value in test[4].items():\n",
    "       result['Critical Value (%s)'%key] = value\n",
    "    print (result)\n",
    "\n",
    "# Apply the test using the function on the time series\n",
    "dickey_fuller(result_1['reviews_count'])"
   ]
  },
  {
   "cell_type": "code",
   "execution_count": 50,
   "id": "31751902",
   "metadata": {},
   "outputs": [
    {
     "data": {
      "image/png": "[encoded data removed]",
      "text/plain": [
       "<Figure size 1800x700 with 1 Axes>"
      ]
     },
     "metadata": {},
     "output_type": "display_data"
    }
   ],
   "source": [
    "# Check out a plot of autocorrelations\n",
    "\n",
    "from statsmodels.graphics.tsaplots import plot_acf, plot_pacf # Here, you import the autocorrelation and partial correlation plots\n",
    "\n",
    "plot_acf(result_1)\n",
    "plt.show()"
   ]
  },
  {
   "cell_type": "markdown",
   "id": "ce1d5b5f",
   "metadata": {},
   "source": [
    "##### Results\n",
    "\n",
    "In your case, the test statistic is 9.753136 and the p-value is 1.000000. This means that the p-value is greater than the significance level of 0.05, so the null hypothesis is not rejected. Therefore, we cannot conclude that the time series is non-stationary."
   ]
  },
  {
   "cell_type": "markdown",
   "id": "35236db2",
   "metadata": {},
   "source": [
    "#### 6. Data not stationary - differencing - repeat the Dickey-Fuller test"
   ]
  },
  {
   "cell_type": "code",
   "execution_count": 51,
   "id": "ae1437cf",
   "metadata": {},
   "outputs": [],
   "source": [
    "# Perform differencing\n",
    "df_di = result_1 - result_1.shift(1)"
   ]
  },
  {
   "cell_type": "code",
   "execution_count": 52,
   "id": "8d489e2a",
   "metadata": {},
   "outputs": [],
   "source": [
    "# Remove missing values from differencing so dickey-fuller test can be done again\n",
    "df_di.dropna(inplace = True)"
   ]
  },
  {
   "cell_type": "code",
   "execution_count": 53,
   "id": "91e94d89",
   "metadata": {},
   "outputs": [
    {
     "data": {
      "text/html": [
       "<div>\n",
       "<style scoped>\n",
       "    .dataframe tbody tr th:only-of-type {\n",
       "        vertical-align: middle;\n",
       "    }\n",
       "\n",
       "    .dataframe tbody tr th {\n",
       "        vertical-align: top;\n",
       "    }\n",
       "\n",
       "    .dataframe thead th {\n",
       "        text-align: right;\n",
       "    }\n",
       "</style>\n",
       "<table border=\"1\" class=\"dataframe\">\n",
       "  <thead>\n",
       "    <tr style=\"text-align: right;\">\n",
       "      <th></th>\n",
       "      <th>reviews_count</th>\n",
       "    </tr>\n",
       "    <tr>\n",
       "      <th>datetime</th>\n",
       "      <th></th>\n",
       "    </tr>\n",
       "  </thead>\n",
       "  <tbody>\n",
       "    <tr>\n",
       "      <th>2014-01-04</th>\n",
       "      <td>0.0</td>\n",
       "    </tr>\n",
       "    <tr>\n",
       "      <th>2015-01-03</th>\n",
       "      <td>0.0</td>\n",
       "    </tr>\n",
       "    <tr>\n",
       "      <th>2015-02-08</th>\n",
       "      <td>0.0</td>\n",
       "    </tr>\n",
       "    <tr>\n",
       "      <th>2015-07-08</th>\n",
       "      <td>0.0</td>\n",
       "    </tr>\n",
       "    <tr>\n",
       "      <th>2016-01-02</th>\n",
       "      <td>0.0</td>\n",
       "    </tr>\n",
       "  </tbody>\n",
       "</table>\n",
       "</div>"
      ],
      "text/plain": [
       "            reviews_count\n",
       "datetime                 \n",
       "2014-01-04            0.0\n",
       "2015-01-03            0.0\n",
       "2015-02-08            0.0\n",
       "2015-07-08            0.0\n",
       "2016-01-02            0.0"
      ]
     },
     "execution_count": 53,
     "metadata": {},
     "output_type": "execute_result"
    }
   ],
   "source": [
    "# Output check\n",
    "df_di.head()"
   ]
  },
  {
   "cell_type": "code",
   "execution_count": 54,
   "id": "cc8e3f87",
   "metadata": {},
   "outputs": [
    {
     "data": {
      "text/plain": [
       "Index(['reviews_count'], dtype='object')"
      ]
     },
     "execution_count": 54,
     "metadata": {},
     "output_type": "execute_result"
    }
   ],
   "source": [
    "df_di.columns"
   ]
  },
  {
   "cell_type": "code",
   "execution_count": 55,
   "id": "76931c4b",
   "metadata": {},
   "outputs": [
    {
     "data": {
      "text/plain": [
       "[<matplotlib.lines.Line2D at 0x2db78517590>]"
      ]
     },
     "execution_count": 55,
     "metadata": {},
     "output_type": "execute_result"
    },
    {
     "data": {
      "image/png": "[encoded data removed]",
      "text/plain": [
       "<Figure size 1500x500 with 1 Axes>"
      ]
     },
     "metadata": {},
     "output_type": "display_data"
    }
   ],
   "source": [
    "# Check out what the differencing did to the time-series curve\n",
    "plt.figure(figsize=(15,5), dpi=100)\n",
    "plt.plot(df_di)"
   ]
  },
  {
   "cell_type": "code",
   "execution_count": 56,
   "id": "be1f9397",
   "metadata": {},
   "outputs": [
    {
     "name": "stdout",
     "output_type": "stream",
     "text": [
      "Dickey-Fuller Stationarity test:\n",
      "Test Statistic                   1.934102\n",
      "p-value                          0.998581\n",
      "Number of Lags Used             22.000000\n",
      "Number of Observations Used    990.000000\n",
      "Critical Value (1%)             -3.436973\n",
      "Critical Value (5%)             -2.864464\n",
      "Critical Value (10%)            -2.568327\n",
      "dtype: float64\n"
     ]
    }
   ],
   "source": [
    "#run dickey-fuller test again\n",
    "#can call dickey_fuller as it was defined previously\n",
    "dickey_fuller(df_di)"
   ]
  },
  {
   "cell_type": "code",
   "execution_count": 58,
   "id": "2d32b794",
   "metadata": {},
   "outputs": [
    {
     "data": {
      "image/png": "[encoded data removed]",
      "text/plain": [
       "<Figure size 1800x700 with 1 Axes>"
      ]
     },
     "metadata": {},
     "output_type": "display_data"
    }
   ],
   "source": [
    "#Create a plot of autocorrelations\n",
    "\n",
    "# Here, you import the autocorrelation and partial correlation plots\n",
    "from statsmodels.graphics.tsaplots import plot_acf, plot_pacf \n",
    "\n",
    "plot_acf(df_di)\n",
    "plt.show()"
   ]
  },
  {
   "cell_type": "markdown",
   "id": "44813f92",
   "metadata": {},
   "source": [
    "#### Results\n",
    "Still after try to change the Output this time, the test statistic is  1.934102 and the p-value is 0.998581. This means that the p-value is greater than the significance level of 0.05, so the null hypothesis is not rejected. So again this time series is non-stationary."
   ]
  },
  {
   "cell_type": "code",
   "execution_count": 59,
   "id": "50fa550a",
   "metadata": {},
   "outputs": [],
   "source": [
    "# saving to csv\n",
    "result_1.to_csv(os.path.join(path, '02 Data','Prepared Data', 'df_time.csv'))"
   ]
  }
 ],
 "metadata": {
  "kernelspec": {
   "display_name": "Python 3 (ipykernel)",
   "language": "python",
   "name": "python3"
  },
  "language_info": {
   "codemirror_mode": {
    "name": "ipython",
    "version": 3
   },
   "file_extension": ".py",
   "mimetype": "text/x-python",
   "name": "python",
   "nbconvert_exporter": "python",
   "pygments_lexer": "ipython3",
   "version": "3.11.4"
  }
 },
 "nbformat": 4,
 "nbformat_minor": 5
}
